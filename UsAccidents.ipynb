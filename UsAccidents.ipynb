{
 "cells": [
  {
   "cell_type": "code",
   "execution_count": 0,
   "metadata": {
    "application/vnd.databricks.v1+cell": {
     "cellMetadata": {
      "byteLimit": 2048000,
      "rowLimit": 10000
     },
     "inputWidgets": {},
     "nuid": "8981806f-aab3-499f-9efe-5ce61c0288c1",
     "showTitle": false,
     "title": ""
    }
   },
   "outputs": [
    {
     "output_type": "stream",
     "name": "stdout",
     "output_type": "stream",
     "text": [
      "'accidents''weather''time''location''county'"
     ]
    }
   ],
   "source": [
    "from pyspark.sql.functions import *\n",
    "from pyspark.sql import SparkSession\n",
    "\n",
    "class USAccidentsPipeline:\n",
    "    \n",
    "    def __init__(self):\n",
    "        self.accidents_delta_table = \"accidents\"\n",
    "        self.weather_delta_table = \"weather\"\n",
    "        self.time_delta_table = \"time\"\n",
    "        self.location_delta_table = \"location\"\n",
    "        self.county_delta_table = \"county\"\n",
    "        self.spark = SparkSession.builder.appName('US Accidents Review').getOrCreate()\n",
    "    \n",
    "    def read_data(self):\n",
    "        df = self.spark.read.format(\"csv\").option(\"header\", True).option(\"delimiter\",\",\").load(\"s3://accidentsreview/US_Accidents.csv\")\n",
    "        df = df.dropDuplicates()\n",
    "        return df\n",
    "    \n",
    "    def filter_columns(self, df):\n",
    "        cols_to_keep = [\"ID\", \"Severity\", \"Start_Time\", \"End_Time\", \"Start_Lat\", \"Start_Lng\", \"Temperature\", \"Wind_Chill\", \"Humidity\", \"Pressure\", \"Visibility\", \"Weather_Condition\", \"Amenity\", \"Bump\", \"Crossing\", \"Give_Way\", \"Junction\", \"No_Exit\", \"Railway\", \"Roundabout\", \"Station\", \"Stop\", \"Traffic_Calming\", \"Traffic_Signal\", \"Turning_Loop\", \"Sunrise_Sunset\", \"Civil_Twilight\", \"Nautical_Twilight\", \"Astronomical_Twilight\", \"County\", \"City\", \"State\", \"Zipcode\", \"Country\"]\n",
    "        filter_df = df.select(cols_to_keep)\n",
    "        return filter_df\n",
    "        \n",
    "    def write_accidents_to_delta(self, df):\n",
    "        accidents_df = df.select(\"ID\", \"Severity\", \"Start_Time\", \"End_Time\")\n",
    "        self.write_to_delta(accidents_df, self.accidents_delta_table)\n",
    "    \n",
    "    def write_weather_to_delta(self, df):\n",
    "        weather_df = df.select(\"ID\", \"Temperature\", \"Wind_Chill\", \"Humidity\", \"Pressure\", \"Visibility\", \"Weather_Condition\")\n",
    "        self.write_to_delta(weather_df, self.weather_delta_table)\n",
    "    \n",
    "    def write_time_to_delta(self, df):\n",
    "        time_df = df.select(\"ID\", \"Start_Time\", \"End_Time\", \"Sunrise_Sunset\", \"Civil_Twilight\", \"Nautical_Twilight\", \"Astronomical_Twilight\")\n",
    "        self.write_to_delta(time_df, self.time_delta_table)\n",
    "    \n",
    "    def write_location_to_delta(self, df):\n",
    "        location_df = df.select(\"ID\", \"Start_Lat\", \"Start_Lng\", \"City\", \"State\", \"Zipcode\", \"Country\")\n",
    "        self.write_to_delta(location_df, self.location_delta_table)\n",
    "    \n",
    "    def write_county_to_delta(self, df):\n",
    "        county_df = df.select(\"ID\", \"County\")\n",
    "        self.write_to_delta(county_df, self.county_delta_table)\n",
    "        \n",
    "        \n",
    "    def write_to_delta(self,df, delta_path):\n",
    "        display(delta_path)\n",
    "        df.write.format(\"delta\").save(\"s3://accidentszone/delta_tables/\" + delta_path)\n",
    "    \n",
    "    def run(self):\n",
    "        df = self.read_data()\n",
    "        filter_df = self.filter_columns(df)\n",
    "        self.write_accidents_to_delta(filter_df)\n",
    "        self.write_weather_to_delta(filter_df)\n",
    "        self.write_time_to_delta(filter_df)\n",
    "        self.write_location_to_delta(filter_df)\n",
    "        self.write_county_to_delta(filter_df)\n",
    "        \n",
    "USAccidentsPipeline().run()"
   ]
  },
  {
   "cell_type": "code",
   "execution_count": 0,
   "metadata": {
    "application/vnd.databricks.v1+cell": {
     "cellMetadata": {
      "byteLimit": 2048000,
      "rowLimit": 10000
     },
     "inputWidgets": {},
     "nuid": "e9cb0a34-3018-4408-8d22-ce34ed69aadb",
     "showTitle": false,
     "title": ""
    }
   },
   "outputs": [],
   "source": [
    "from pyspark.sql import SparkSession\n",
    "spark = SparkSession.builder.appName('Convert US Accidents to Parquet').getOrCreate()\n",
    "df = spark.read.format(\"csv\").option(\"header\", True).option('inferSchema', True).option(\"delimiter\", \",\").load(\"s3://accidentsreview/US_Accidents.csv\")\n",
    "df.write.format(\"parquet\").save(\"s3://accidentsreview/US_Accidents.parquet\")"
   ]
  },
  {
   "cell_type": "code",
   "execution_count": 0,
   "metadata": {
    "application/vnd.databricks.v1+cell": {
     "cellMetadata": {
      "byteLimit": 2048000,
      "rowLimit": 10000
     },
     "inputWidgets": {},
     "nuid": "30dcd27d-791d-4ed7-b3f3-76a10a076c57",
     "showTitle": false,
     "title": ""
    }
   },
   "outputs": [
    {
     "output_type": "stream",
     "name": "stdout",
     "output_type": "stream",
     "text": [
      "root\n |-- ID: string (nullable = true)\n |-- Severity: integer (nullable = true)\n |-- Start_Time: string (nullable = true)\n |-- End_Time: string (nullable = true)\n |-- Start_Lat: double (nullable = true)\n |-- Start_Lng: double (nullable = true)\n |-- End_Lat: double (nullable = true)\n |-- End_Lng: double (nullable = true)\n |-- Distance: double (nullable = true)\n |-- Description: string (nullable = true)\n |-- Number: integer (nullable = true)\n |-- Street: string (nullable = true)\n |-- Side: string (nullable = true)\n |-- City: string (nullable = true)\n |-- County: string (nullable = true)\n |-- State: string (nullable = true)\n |-- Zipcode: string (nullable = true)\n |-- Country: string (nullable = true)\n |-- Timezone: string (nullable = true)\n |-- Airport_Code: string (nullable = true)\n |-- Weather_Timestamp: string (nullable = true)\n |-- Temperature: double (nullable = true)\n |-- Wind_Chill: double (nullable = true)\n |-- Humidity: integer (nullable = true)\n |-- Pressure: double (nullable = true)\n |-- Visibility: double (nullable = true)\n |-- Wind_Direction: string (nullable = true)\n |-- Wind_Speed: double (nullable = true)\n |-- Precipitation: double (nullable = true)\n |-- Weather_Condition: string (nullable = true)\n |-- Amenity: boolean (nullable = true)\n |-- Bump: boolean (nullable = true)\n |-- Crossing: boolean (nullable = true)\n |-- Give_Way: boolean (nullable = true)\n |-- Junction: boolean (nullable = true)\n |-- No_Exit: boolean (nullable = true)\n |-- Railway: boolean (nullable = true)\n |-- Roundabout: boolean (nullable = true)\n |-- Station: boolean (nullable = true)\n |-- Stop: boolean (nullable = true)\n |-- Traffic_Calming: boolean (nullable = true)\n |-- Traffic_Signal: boolean (nullable = true)\n |-- Turning_Loop: boolean (nullable = true)\n |-- Sunrise_Sunset: string (nullable = true)\n |-- Civil_Twilight: string (nullable = true)\n |-- Nautical_Twilight: string (nullable = true)\n |-- Astronomical_Twilight: string (nullable = true)\n\n"
     ]
    }
   ],
   "source": [
    "# Display the schema of the DataFrame\n",
    "df.printSchema()"
   ]
  },
  {
   "cell_type": "code",
   "execution_count": 0,
   "metadata": {
    "application/vnd.databricks.v1+cell": {
     "cellMetadata": {
      "byteLimit": 2048000,
      "implicitDf": true,
      "rowLimit": 10000
     },
     "inputWidgets": {},
     "nuid": "8e98ecbc-24bd-47a6-9f9c-5629238afa18",
     "showTitle": false,
     "title": ""
    }
   },
   "outputs": [
    {
     "output_type": "display_data",
     "data": {
      "text/html": [
       "<style scoped>\n  .table-result-container {\n    max-height: 300px;\n    overflow: auto;\n  }\n  table, th, td {\n    border: 1px solid black;\n    border-collapse: collapse;\n  }\n  th, td {\n    padding: 5px;\n  }\n  th {\n    text-align: left;\n  }\n</style><div class='table-result-container'><table class='table-result'><thead style='background-color: white'><tr></tr></thead><tbody></tbody></table></div>"
      ]
     },
     "metadata": {
      "application/vnd.databricks.v1+output": {
       "addedWidgets": {},
       "aggData": [],
       "aggError": "",
       "aggOverflow": false,
       "aggSchema": [],
       "aggSeriesLimitReached": false,
       "aggType": "",
       "arguments": {},
       "columnCustomDisplayInfos": {},
       "data": [],
       "datasetInfos": [],
       "dbfsResultPath": null,
       "isJsonSchema": true,
       "metadata": {},
       "overflow": false,
       "plotOptions": {
        "customPlotOptions": {},
        "displayType": "table",
        "pivotAggregation": null,
        "pivotColumns": null,
        "xColumns": null,
        "yColumns": null
       },
       "removedWidgets": [],
       "schema": [],
       "type": "table"
      }
     },
     "output_type": "display_data"
    }
   ],
   "source": [
    "%sql \n",
    "CREATE TABLE accidents USING DELTA LOCATION \"s3://accidentszone/delta_tables/accidents/\""
   ]
  },
  {
   "cell_type": "code",
   "execution_count": 0,
   "metadata": {
    "application/vnd.databricks.v1+cell": {
     "cellMetadata": {
      "byteLimit": 2048000,
      "implicitDf": true,
      "rowLimit": 10000
     },
     "inputWidgets": {},
     "nuid": "08c3e776-5fc3-4618-b4e9-0ba8207e3f97",
     "showTitle": false,
     "title": ""
    }
   },
   "outputs": [
    {
     "output_type": "display_data",
     "data": {
      "text/html": [
       "<style scoped>\n  .table-result-container {\n    max-height: 300px;\n    overflow: auto;\n  }\n  table, th, td {\n    border: 1px solid black;\n    border-collapse: collapse;\n  }\n  th, td {\n    padding: 5px;\n  }\n  th {\n    text-align: left;\n  }\n</style><div class='table-result-container'><table class='table-result'><thead style='background-color: white'><tr><th>ID</th><th>Severity</th><th>Start_Time</th><th>End_Time</th></tr></thead><tbody><tr><td>A-218</td><td>2</td><td>2/16/16 9:41</td><td>2/16/16 15:41</td></tr><tr><td>A-932</td><td>4</td><td>3/17/16 7:25</td><td>3/17/16 13:25</td></tr><tr><td>A-1457</td><td>2</td><td>4/1/16 20:41</td><td>4/2/16 2:41</td></tr><tr><td>A-1862</td><td>2</td><td>4/11/16 17:25</td><td>4/11/16 23:25</td></tr><tr><td>A-2599</td><td>2</td><td>4/26/16 18:17</td><td>4/27/16 0:17</td></tr><tr><td>A-2604</td><td>3</td><td>4/26/16 19:53</td><td>4/27/16 1:53</td></tr><tr><td>A-2656</td><td>2</td><td>4/27/16 16:56</td><td>4/27/16 22:56</td></tr><tr><td>A-2671</td><td>4</td><td>4/27/16 18:17</td><td>4/28/16 0:17</td></tr><tr><td>A-3166</td><td>2</td><td>5/10/16 17:37</td><td>5/10/16 23:37</td></tr><tr><td>A-3216</td><td>2</td><td>5/11/16 15:25</td><td>5/11/16 21:25</td></tr><tr><td>A-3253</td><td>2</td><td>5/12/16 6:41</td><td>5/12/16 12:41</td></tr><tr><td>A-3304</td><td>2</td><td>5/12/16 17:25</td><td>5/12/16 23:25</td></tr><tr><td>A-3609</td><td>2</td><td>5/19/16 6:27</td><td>5/19/16 12:27</td></tr><tr><td>A-3941</td><td>2</td><td>5/25/16 19:26</td><td>5/26/16 1:26</td></tr><tr><td>A-4297</td><td>2</td><td>5/31/16 12:43</td><td>5/31/16 18:43</td></tr><tr><td>A-4362</td><td>2</td><td>6/1/16 12:53</td><td>6/1/16 18:53</td></tr><tr><td>A-4825</td><td>2</td><td>6/10/16 11:39</td><td>6/10/16 17:39</td></tr><tr><td>A-5117</td><td>2</td><td>6/17/16 13:17</td><td>6/17/16 19:17</td></tr><tr><td>A-5248</td><td>3</td><td>3/23/16 5:55</td><td>3/23/16 11:55</td></tr><tr><td>A-5258</td><td>2</td><td>3/23/16 8:28</td><td>3/23/16 14:28</td></tr><tr><td>A-5780</td><td>3</td><td>3/31/16 10:59</td><td>3/31/16 16:59</td></tr><tr><td>A-6205</td><td>3</td><td>4/7/16 7:26</td><td>4/7/16 13:26</td></tr><tr><td>A-6407</td><td>2</td><td>4/10/16 15:57</td><td>4/10/16 21:57</td></tr><tr><td>A-7110</td><td>2</td><td>4/22/16 19:18</td><td>4/23/16 1:18</td></tr><tr><td>A-7263</td><td>2</td><td>4/26/16 18:54</td><td>4/27/16 0:54</td></tr><tr><td>A-8179</td><td>2</td><td>5/12/16 17:15</td><td>5/12/16 23:15</td></tr><tr><td>A-8223</td><td>2</td><td>5/16/16 11:51</td><td>5/16/16 17:51</td></tr><tr><td>A-8231</td><td>2</td><td>5/16/16 14:10</td><td>5/16/16 20:10</td></tr><tr><td>A-8694</td><td>2</td><td>5/19/16 11:12</td><td>5/19/16 17:12</td></tr><tr><td>A-8756</td><td>3</td><td>5/19/16 16:05</td><td>5/19/16 22:05</td></tr><tr><td>A-8919</td><td>2</td><td>5/20/16 13:59</td><td>5/20/16 19:59</td></tr><tr><td>A-9019</td><td>2</td><td>5/20/16 17:47</td><td>5/20/16 23:47</td></tr><tr><td>A-9154</td><td>2</td><td>5/22/16 23:08</td><td>5/23/16 5:08</td></tr><tr><td>A-9660</td><td>2</td><td>5/25/16 6:46</td><td>5/25/16 12:46</td></tr><tr><td>A-10239</td><td>2</td><td>5/27/16 9:30</td><td>5/27/16 15:30</td></tr><tr><td>A-11106</td><td>2</td><td>6/7/16 16:30</td><td>6/7/16 22:30</td></tr><tr><td>A-11153</td><td>2</td><td>6/7/16 23:14</td><td>6/8/16 5:14</td></tr><tr><td>A-11310</td><td>2</td><td>6/10/16 8:30</td><td>6/10/16 14:30</td></tr><tr><td>A-11385</td><td>3</td><td>6/11/16 18:41</td><td>6/12/16 0:41</td></tr><tr><td>A-11440</td><td>2</td><td>6/13/16 13:53</td><td>6/13/16 19:53</td></tr><tr><td>A-11952</td><td>2</td><td>12/2/16 4:54</td><td>12/2/16 10:54</td></tr><tr><td>A-12097</td><td>3</td><td>12/3/16 14:14</td><td>12/3/16 20:14</td></tr><tr><td>A-12129</td><td>4</td><td>12/3/16 22:34</td><td>12/4/16 4:34</td></tr><tr><td>A-12452</td><td>2</td><td>12/6/16 17:42</td><td>12/6/16 23:42</td></tr><tr><td>A-12606</td><td>2</td><td>12/7/16 17:49</td><td>12/7/16 23:49</td></tr><tr><td>A-12608</td><td>2</td><td>12/7/16 17:53</td><td>12/7/16 23:53</td></tr><tr><td>A-12941</td><td>3</td><td>12/11/16 3:17</td><td>12/11/16 9:17</td></tr><tr><td>A-13188</td><td>2</td><td>12/13/16 13:34</td><td>12/13/16 19:34</td></tr><tr><td>A-13433</td><td>2</td><td>12/15/16 17:27</td><td>12/15/16 23:27</td></tr><tr><td>A-13757</td><td>2</td><td>12/18/16 9:37</td><td>12/18/16 15:37</td></tr><tr><td>A-13945</td><td>2</td><td>12/20/16 15:59</td><td>12/20/16 21:59</td></tr><tr><td>A-14182</td><td>2</td><td>12/22/16 14:13</td><td>12/22/16 20:13</td></tr><tr><td>A-14462</td><td>2</td><td>12/27/16 11:41</td><td>12/27/16 17:41</td></tr><tr><td>A-14526</td><td>2</td><td>12/28/16 9:16</td><td>12/28/16 15:16</td></tr><tr><td>A-14618</td><td>3</td><td>12/29/16 12:41</td><td>12/29/16 18:41</td></tr><tr><td>A-14647</td><td>3</td><td>12/29/16 18:43</td><td>12/30/16 0:43</td></tr><tr><td>A-14682</td><td>2</td><td>12/30/16 11:02</td><td>12/30/16 17:02</td></tr><tr><td>A-14725</td><td>2</td><td>12/30/16 15:40</td><td>12/30/16 21:40</td></tr><tr><td>A-14835</td><td>2</td><td>1/2/17 17:03</td><td>1/2/17 23:03</td></tr><tr><td>A-14930</td><td>2</td><td>1/3/17 10:31</td><td>1/3/17 16:31</td></tr><tr><td>A-15127</td><td>2</td><td>1/5/17 7:10</td><td>1/5/17 13:10</td></tr><tr><td>A-15208</td><td>2</td><td>1/5/17 10:04</td><td>1/5/17 16:04</td></tr><tr><td>A-15266</td><td>3</td><td>1/5/17 22:49</td><td>1/6/17 4:49</td></tr><tr><td>A-15437</td><td>2</td><td>1/6/17 18:10</td><td>1/7/17 0:10</td></tr><tr><td>A-15647</td><td>2</td><td>1/10/17 4:41</td><td>1/10/17 10:41</td></tr><tr><td>A-15678</td><td>2</td><td>1/10/17 7:33</td><td>1/10/17 13:33</td></tr><tr><td>A-15771</td><td>2</td><td>1/10/17 15:51</td><td>1/10/17 21:51</td></tr><tr><td>A-15802</td><td>3</td><td>1/11/17 0:55</td><td>1/11/17 6:55</td></tr><tr><td>A-15865</td><td>2</td><td>1/11/17 10:00</td><td>1/11/17 16:00</td></tr><tr><td>A-16065</td><td>3</td><td>1/12/17 18:41</td><td>1/13/17 0:41</td></tr><tr><td>A-16087</td><td>3</td><td>1/12/17 22:36</td><td>1/13/17 4:36</td></tr><tr><td>A-16103</td><td>2</td><td>1/13/17 6:20</td><td>1/13/17 12:20</td></tr><tr><td>A-16157</td><td>3</td><td>1/13/17 13:51</td><td>1/13/17 19:51</td></tr><tr><td>A-16229</td><td>4</td><td>1/14/17 3:24</td><td>1/14/17 9:24</td></tr><tr><td>A-16261</td><td>4</td><td>1/15/17 22:20</td><td>1/16/17 4:20</td></tr><tr><td>A-16278</td><td>3</td><td>1/16/17 2:48</td><td>1/16/17 8:48</td></tr><tr><td>A-16428</td><td>2</td><td>1/17/17 4:54</td><td>1/17/17 10:54</td></tr><tr><td>A-17200</td><td>3</td><td>1/25/17 10:17</td><td>1/25/17 16:17</td></tr><tr><td>A-17563</td><td>3</td><td>10/21/16 20:12</td><td>10/22/16 2:12</td></tr><tr><td>A-17655</td><td>2</td><td>10/24/16 15:09</td><td>10/24/16 21:19</td></tr><tr><td>A-17785</td><td>3</td><td>10/25/16 17:47</td><td>10/25/16 23:47</td></tr><tr><td>A-18619</td><td>4</td><td>11/4/16 9:53</td><td>11/4/16 15:53</td></tr><tr><td>A-18639</td><td>2</td><td>11/4/16 14:24</td><td>11/4/16 20:24</td></tr><tr><td>A-18719</td><td>4</td><td>11/6/16 4:56</td><td>11/6/16 10:56</td></tr><tr><td>A-18844</td><td>2</td><td>11/7/16 17:28</td><td>11/7/16 23:28</td></tr><tr><td>A-18912</td><td>2</td><td>11/8/16 6:55</td><td>11/8/16 12:55</td></tr><tr><td>A-18997</td><td>2</td><td>11/8/16 17:33</td><td>11/8/16 23:33</td></tr><tr><td>A-19345</td><td>2</td><td>11/11/16 16:47</td><td>11/11/16 22:47</td></tr><tr><td>A-19660</td><td>4</td><td>11/16/16 2:37</td><td>11/16/16 8:37</td></tr><tr><td>A-20040</td><td>3</td><td>11/19/16 5:57</td><td>11/19/16 11:57</td></tr><tr><td>A-20178</td><td>2</td><td>11/21/16 13:55</td><td>11/21/16 19:55</td></tr><tr><td>A-20542</td><td>3</td><td>11/25/16 8:31</td><td>11/25/16 14:31</td></tr><tr><td>A-20729</td><td>2</td><td>11/28/16 8:56</td><td>11/28/16 14:56</td></tr><tr><td>A-20835</td><td>2</td><td>11/29/16 9:00</td><td>11/29/16 15:00</td></tr><tr><td>A-20865</td><td>3</td><td>11/29/16 15:52</td><td>11/29/16 21:52</td></tr><tr><td>A-21195</td><td>2</td><td>9/13/16 16:35</td><td>9/13/16 22:35</td></tr><tr><td>A-21452</td><td>2</td><td>9/15/16 12:42</td><td>9/15/16 18:42</td></tr><tr><td>A-21522</td><td>2</td><td>9/16/16 0:38</td><td>9/16/16 6:38</td></tr><tr><td>A-22000</td><td>3</td><td>9/27/16 10:48</td><td>9/27/16 16:48</td></tr><tr><td>A-22367</td><td>3</td><td>9/30/16 11:33</td><td>9/30/16 17:33</td></tr></tbody></table></div>"
      ]
     },
     "metadata": {
      "application/vnd.databricks.v1+output": {
       "addedWidgets": {},
       "aggData": [],
       "aggError": "",
       "aggOverflow": false,
       "aggSchema": [],
       "aggSeriesLimitReached": false,
       "aggType": "",
       "arguments": {},
       "columnCustomDisplayInfos": {},
       "data": [
        [
         "A-218",
         "2",
         "2/16/16 9:41",
         "2/16/16 15:41"
        ],
        [
         "A-932",
         "4",
         "3/17/16 7:25",
         "3/17/16 13:25"
        ],
        [
         "A-1457",
         "2",
         "4/1/16 20:41",
         "4/2/16 2:41"
        ],
        [
         "A-1862",
         "2",
         "4/11/16 17:25",
         "4/11/16 23:25"
        ],
        [
         "A-2599",
         "2",
         "4/26/16 18:17",
         "4/27/16 0:17"
        ],
        [
         "A-2604",
         "3",
         "4/26/16 19:53",
         "4/27/16 1:53"
        ],
        [
         "A-2656",
         "2",
         "4/27/16 16:56",
         "4/27/16 22:56"
        ],
        [
         "A-2671",
         "4",
         "4/27/16 18:17",
         "4/28/16 0:17"
        ],
        [
         "A-3166",
         "2",
         "5/10/16 17:37",
         "5/10/16 23:37"
        ],
        [
         "A-3216",
         "2",
         "5/11/16 15:25",
         "5/11/16 21:25"
        ],
        [
         "A-3253",
         "2",
         "5/12/16 6:41",
         "5/12/16 12:41"
        ],
        [
         "A-3304",
         "2",
         "5/12/16 17:25",
         "5/12/16 23:25"
        ],
        [
         "A-3609",
         "2",
         "5/19/16 6:27",
         "5/19/16 12:27"
        ],
        [
         "A-3941",
         "2",
         "5/25/16 19:26",
         "5/26/16 1:26"
        ],
        [
         "A-4297",
         "2",
         "5/31/16 12:43",
         "5/31/16 18:43"
        ],
        [
         "A-4362",
         "2",
         "6/1/16 12:53",
         "6/1/16 18:53"
        ],
        [
         "A-4825",
         "2",
         "6/10/16 11:39",
         "6/10/16 17:39"
        ],
        [
         "A-5117",
         "2",
         "6/17/16 13:17",
         "6/17/16 19:17"
        ],
        [
         "A-5248",
         "3",
         "3/23/16 5:55",
         "3/23/16 11:55"
        ],
        [
         "A-5258",
         "2",
         "3/23/16 8:28",
         "3/23/16 14:28"
        ],
        [
         "A-5780",
         "3",
         "3/31/16 10:59",
         "3/31/16 16:59"
        ],
        [
         "A-6205",
         "3",
         "4/7/16 7:26",
         "4/7/16 13:26"
        ],
        [
         "A-6407",
         "2",
         "4/10/16 15:57",
         "4/10/16 21:57"
        ],
        [
         "A-7110",
         "2",
         "4/22/16 19:18",
         "4/23/16 1:18"
        ],
        [
         "A-7263",
         "2",
         "4/26/16 18:54",
         "4/27/16 0:54"
        ],
        [
         "A-8179",
         "2",
         "5/12/16 17:15",
         "5/12/16 23:15"
        ],
        [
         "A-8223",
         "2",
         "5/16/16 11:51",
         "5/16/16 17:51"
        ],
        [
         "A-8231",
         "2",
         "5/16/16 14:10",
         "5/16/16 20:10"
        ],
        [
         "A-8694",
         "2",
         "5/19/16 11:12",
         "5/19/16 17:12"
        ],
        [
         "A-8756",
         "3",
         "5/19/16 16:05",
         "5/19/16 22:05"
        ],
        [
         "A-8919",
         "2",
         "5/20/16 13:59",
         "5/20/16 19:59"
        ],
        [
         "A-9019",
         "2",
         "5/20/16 17:47",
         "5/20/16 23:47"
        ],
        [
         "A-9154",
         "2",
         "5/22/16 23:08",
         "5/23/16 5:08"
        ],
        [
         "A-9660",
         "2",
         "5/25/16 6:46",
         "5/25/16 12:46"
        ],
        [
         "A-10239",
         "2",
         "5/27/16 9:30",
         "5/27/16 15:30"
        ],
        [
         "A-11106",
         "2",
         "6/7/16 16:30",
         "6/7/16 22:30"
        ],
        [
         "A-11153",
         "2",
         "6/7/16 23:14",
         "6/8/16 5:14"
        ],
        [
         "A-11310",
         "2",
         "6/10/16 8:30",
         "6/10/16 14:30"
        ],
        [
         "A-11385",
         "3",
         "6/11/16 18:41",
         "6/12/16 0:41"
        ],
        [
         "A-11440",
         "2",
         "6/13/16 13:53",
         "6/13/16 19:53"
        ],
        [
         "A-11952",
         "2",
         "12/2/16 4:54",
         "12/2/16 10:54"
        ],
        [
         "A-12097",
         "3",
         "12/3/16 14:14",
         "12/3/16 20:14"
        ],
        [
         "A-12129",
         "4",
         "12/3/16 22:34",
         "12/4/16 4:34"
        ],
        [
         "A-12452",
         "2",
         "12/6/16 17:42",
         "12/6/16 23:42"
        ],
        [
         "A-12606",
         "2",
         "12/7/16 17:49",
         "12/7/16 23:49"
        ],
        [
         "A-12608",
         "2",
         "12/7/16 17:53",
         "12/7/16 23:53"
        ],
        [
         "A-12941",
         "3",
         "12/11/16 3:17",
         "12/11/16 9:17"
        ],
        [
         "A-13188",
         "2",
         "12/13/16 13:34",
         "12/13/16 19:34"
        ],
        [
         "A-13433",
         "2",
         "12/15/16 17:27",
         "12/15/16 23:27"
        ],
        [
         "A-13757",
         "2",
         "12/18/16 9:37",
         "12/18/16 15:37"
        ],
        [
         "A-13945",
         "2",
         "12/20/16 15:59",
         "12/20/16 21:59"
        ],
        [
         "A-14182",
         "2",
         "12/22/16 14:13",
         "12/22/16 20:13"
        ],
        [
         "A-14462",
         "2",
         "12/27/16 11:41",
         "12/27/16 17:41"
        ],
        [
         "A-14526",
         "2",
         "12/28/16 9:16",
         "12/28/16 15:16"
        ],
        [
         "A-14618",
         "3",
         "12/29/16 12:41",
         "12/29/16 18:41"
        ],
        [
         "A-14647",
         "3",
         "12/29/16 18:43",
         "12/30/16 0:43"
        ],
        [
         "A-14682",
         "2",
         "12/30/16 11:02",
         "12/30/16 17:02"
        ],
        [
         "A-14725",
         "2",
         "12/30/16 15:40",
         "12/30/16 21:40"
        ],
        [
         "A-14835",
         "2",
         "1/2/17 17:03",
         "1/2/17 23:03"
        ],
        [
         "A-14930",
         "2",
         "1/3/17 10:31",
         "1/3/17 16:31"
        ],
        [
         "A-15127",
         "2",
         "1/5/17 7:10",
         "1/5/17 13:10"
        ],
        [
         "A-15208",
         "2",
         "1/5/17 10:04",
         "1/5/17 16:04"
        ],
        [
         "A-15266",
         "3",
         "1/5/17 22:49",
         "1/6/17 4:49"
        ],
        [
         "A-15437",
         "2",
         "1/6/17 18:10",
         "1/7/17 0:10"
        ],
        [
         "A-15647",
         "2",
         "1/10/17 4:41",
         "1/10/17 10:41"
        ],
        [
         "A-15678",
         "2",
         "1/10/17 7:33",
         "1/10/17 13:33"
        ],
        [
         "A-15771",
         "2",
         "1/10/17 15:51",
         "1/10/17 21:51"
        ],
        [
         "A-15802",
         "3",
         "1/11/17 0:55",
         "1/11/17 6:55"
        ],
        [
         "A-15865",
         "2",
         "1/11/17 10:00",
         "1/11/17 16:00"
        ],
        [
         "A-16065",
         "3",
         "1/12/17 18:41",
         "1/13/17 0:41"
        ],
        [
         "A-16087",
         "3",
         "1/12/17 22:36",
         "1/13/17 4:36"
        ],
        [
         "A-16103",
         "2",
         "1/13/17 6:20",
         "1/13/17 12:20"
        ],
        [
         "A-16157",
         "3",
         "1/13/17 13:51",
         "1/13/17 19:51"
        ],
        [
         "A-16229",
         "4",
         "1/14/17 3:24",
         "1/14/17 9:24"
        ],
        [
         "A-16261",
         "4",
         "1/15/17 22:20",
         "1/16/17 4:20"
        ],
        [
         "A-16278",
         "3",
         "1/16/17 2:48",
         "1/16/17 8:48"
        ],
        [
         "A-16428",
         "2",
         "1/17/17 4:54",
         "1/17/17 10:54"
        ],
        [
         "A-17200",
         "3",
         "1/25/17 10:17",
         "1/25/17 16:17"
        ],
        [
         "A-17563",
         "3",
         "10/21/16 20:12",
         "10/22/16 2:12"
        ],
        [
         "A-17655",
         "2",
         "10/24/16 15:09",
         "10/24/16 21:19"
        ],
        [
         "A-17785",
         "3",
         "10/25/16 17:47",
         "10/25/16 23:47"
        ],
        [
         "A-18619",
         "4",
         "11/4/16 9:53",
         "11/4/16 15:53"
        ],
        [
         "A-18639",
         "2",
         "11/4/16 14:24",
         "11/4/16 20:24"
        ],
        [
         "A-18719",
         "4",
         "11/6/16 4:56",
         "11/6/16 10:56"
        ],
        [
         "A-18844",
         "2",
         "11/7/16 17:28",
         "11/7/16 23:28"
        ],
        [
         "A-18912",
         "2",
         "11/8/16 6:55",
         "11/8/16 12:55"
        ],
        [
         "A-18997",
         "2",
         "11/8/16 17:33",
         "11/8/16 23:33"
        ],
        [
         "A-19345",
         "2",
         "11/11/16 16:47",
         "11/11/16 22:47"
        ],
        [
         "A-19660",
         "4",
         "11/16/16 2:37",
         "11/16/16 8:37"
        ],
        [
         "A-20040",
         "3",
         "11/19/16 5:57",
         "11/19/16 11:57"
        ],
        [
         "A-20178",
         "2",
         "11/21/16 13:55",
         "11/21/16 19:55"
        ],
        [
         "A-20542",
         "3",
         "11/25/16 8:31",
         "11/25/16 14:31"
        ],
        [
         "A-20729",
         "2",
         "11/28/16 8:56",
         "11/28/16 14:56"
        ],
        [
         "A-20835",
         "2",
         "11/29/16 9:00",
         "11/29/16 15:00"
        ],
        [
         "A-20865",
         "3",
         "11/29/16 15:52",
         "11/29/16 21:52"
        ],
        [
         "A-21195",
         "2",
         "9/13/16 16:35",
         "9/13/16 22:35"
        ],
        [
         "A-21452",
         "2",
         "9/15/16 12:42",
         "9/15/16 18:42"
        ],
        [
         "A-21522",
         "2",
         "9/16/16 0:38",
         "9/16/16 6:38"
        ],
        [
         "A-22000",
         "3",
         "9/27/16 10:48",
         "9/27/16 16:48"
        ],
        [
         "A-22367",
         "3",
         "9/30/16 11:33",
         "9/30/16 17:33"
        ]
       ],
       "datasetInfos": [],
       "dbfsResultPath": null,
       "isJsonSchema": true,
       "metadata": {},
       "overflow": false,
       "plotOptions": {
        "customPlotOptions": {},
        "displayType": "table",
        "pivotAggregation": null,
        "pivotColumns": null,
        "xColumns": null,
        "yColumns": null
       },
       "removedWidgets": [],
       "schema": [
        {
         "metadata": "{}",
         "name": "ID",
         "type": "\"string\""
        },
        {
         "metadata": "{}",
         "name": "Severity",
         "type": "\"string\""
        },
        {
         "metadata": "{}",
         "name": "Start_Time",
         "type": "\"string\""
        },
        {
         "metadata": "{}",
         "name": "End_Time",
         "type": "\"string\""
        }
       ],
       "type": "table"
      }
     },
     "output_type": "display_data"
    }
   ],
   "source": [
    "%sql \n",
    "SELECT * FROM accidents LIMIT 100"
   ]
  },
  {
   "cell_type": "code",
   "execution_count": 0,
   "metadata": {
    "application/vnd.databricks.v1+cell": {
     "cellMetadata": {
      "byteLimit": 2048000,
      "implicitDf": true,
      "rowLimit": 10000
     },
     "inputWidgets": {},
     "nuid": "2c806270-0331-4d5d-a018-240a999e82e8",
     "showTitle": false,
     "title": ""
    }
   },
   "outputs": [
    {
     "output_type": "display_data",
     "data": {
      "text/html": [
       "<style scoped>\n  .table-result-container {\n    max-height: 300px;\n    overflow: auto;\n  }\n  table, th, td {\n    border: 1px solid black;\n    border-collapse: collapse;\n  }\n  th, td {\n    padding: 5px;\n  }\n  th {\n    text-align: left;\n  }\n</style><div class='table-result-container'><table class='table-result'><thead style='background-color: white'><tr></tr></thead><tbody></tbody></table></div>"
      ]
     },
     "metadata": {
      "application/vnd.databricks.v1+output": {
       "addedWidgets": {},
       "aggData": [],
       "aggError": "",
       "aggOverflow": false,
       "aggSchema": [],
       "aggSeriesLimitReached": false,
       "aggType": "",
       "arguments": {},
       "columnCustomDisplayInfos": {},
       "data": [],
       "datasetInfos": [],
       "dbfsResultPath": null,
       "isJsonSchema": true,
       "metadata": {},
       "overflow": false,
       "plotOptions": {
        "customPlotOptions": {},
        "displayType": "table",
        "pivotAggregation": null,
        "pivotColumns": null,
        "xColumns": null,
        "yColumns": null
       },
       "removedWidgets": [],
       "schema": [],
       "type": "table"
      }
     },
     "output_type": "display_data"
    }
   ],
   "source": [
    "%sql \n",
    "CREATE TABLE county USING DELTA LOCATION \"s3://accidentszone/delta_tables/county/\""
   ]
  },
  {
   "cell_type": "code",
   "execution_count": 0,
   "metadata": {
    "application/vnd.databricks.v1+cell": {
     "cellMetadata": {
      "byteLimit": 2048000,
      "implicitDf": true,
      "rowLimit": 10000
     },
     "inputWidgets": {},
     "nuid": "111496e8-2ae6-4fc6-9c2d-6af43912fda2",
     "showTitle": false,
     "title": ""
    }
   },
   "outputs": [
    {
     "output_type": "display_data",
     "data": {
      "text/html": [
       "<style scoped>\n  .table-result-container {\n    max-height: 300px;\n    overflow: auto;\n  }\n  table, th, td {\n    border: 1px solid black;\n    border-collapse: collapse;\n  }\n  th, td {\n    padding: 5px;\n  }\n  th {\n    text-align: left;\n  }\n</style><div class='table-result-container'><table class='table-result'><thead style='background-color: white'><tr><th>ID</th><th>County</th></tr></thead><tbody><tr><td>A-218</td><td>Franklin</td></tr><tr><td>A-932</td><td>Montgomery</td></tr><tr><td>A-1457</td><td>Santa Cruz</td></tr><tr><td>A-1862</td><td>Sacramento</td></tr><tr><td>A-2599</td><td>Santa Clara</td></tr><tr><td>A-2604</td><td>Solano</td></tr><tr><td>A-2656</td><td>Sacramento</td></tr><tr><td>A-2671</td><td>Sacramento</td></tr><tr><td>A-3166</td><td>Santa Cruz</td></tr><tr><td>A-3216</td><td>Marin</td></tr><tr><td>A-3253</td><td>Santa Clara</td></tr><tr><td>A-3304</td><td>Contra Costa</td></tr><tr><td>A-3609</td><td>Alameda</td></tr><tr><td>A-3941</td><td>Alameda</td></tr><tr><td>A-4297</td><td>Solano</td></tr><tr><td>A-4362</td><td>Sacramento</td></tr><tr><td>A-4825</td><td>Contra Costa</td></tr><tr><td>A-5117</td><td>Alameda</td></tr><tr><td>A-5248</td><td>Los Angeles</td></tr><tr><td>A-5258</td><td>Los Angeles</td></tr><tr><td>A-5780</td><td>Los Angeles</td></tr><tr><td>A-6205</td><td>Los Angeles</td></tr><tr><td>A-6407</td><td>Los Angeles</td></tr><tr><td>A-7110</td><td>Los Angeles</td></tr><tr><td>A-7263</td><td>Orange</td></tr><tr><td>A-8179</td><td>Los Angeles</td></tr><tr><td>A-8223</td><td>San Diego</td></tr><tr><td>A-8231</td><td>Los Angeles</td></tr><tr><td>A-8694</td><td>Los Angeles</td></tr><tr><td>A-8756</td><td>San Diego</td></tr><tr><td>A-8919</td><td>Los Angeles</td></tr><tr><td>A-9019</td><td>Riverside</td></tr><tr><td>A-9154</td><td>Orange</td></tr><tr><td>A-9660</td><td>San Diego</td></tr><tr><td>A-10239</td><td>Los Angeles</td></tr><tr><td>A-11106</td><td>Los Angeles</td></tr><tr><td>A-11153</td><td>Los Angeles</td></tr><tr><td>A-11310</td><td>Los Angeles</td></tr><tr><td>A-11385</td><td>Orange</td></tr><tr><td>A-11440</td><td>Riverside</td></tr><tr><td>A-11952</td><td>Steele</td></tr><tr><td>A-12097</td><td>Dallas</td></tr><tr><td>A-12129</td><td>Harris</td></tr><tr><td>A-12452</td><td>Hennepin</td></tr><tr><td>A-12606</td><td>Ramsey</td></tr><tr><td>A-12608</td><td>Hennepin</td></tr><tr><td>A-12941</td><td>Tarrant</td></tr><tr><td>A-13188</td><td>Harris</td></tr><tr><td>A-13433</td><td>Oklahoma</td></tr><tr><td>A-13757</td><td>Adams</td></tr><tr><td>A-13945</td><td>Bexar</td></tr><tr><td>A-14182</td><td>Harris</td></tr><tr><td>A-14462</td><td>Harris</td></tr><tr><td>A-14526</td><td>Dakota</td></tr><tr><td>A-14618</td><td>Dallas</td></tr><tr><td>A-14647</td><td>Jackson</td></tr><tr><td>A-14682</td><td>Travis</td></tr><tr><td>A-14725</td><td>Johnson</td></tr><tr><td>A-14835</td><td>Hennepin</td></tr><tr><td>A-14930</td><td>El Paso</td></tr><tr><td>A-15127</td><td>Ramsey</td></tr><tr><td>A-15208</td><td>El Paso</td></tr><tr><td>A-15266</td><td>Jackson</td></tr><tr><td>A-15437</td><td>Dallas</td></tr><tr><td>A-15647</td><td>Harris</td></tr><tr><td>A-15678</td><td>Hennepin</td></tr><tr><td>A-15771</td><td>Ramsey</td></tr><tr><td>A-15802</td><td>Hennepin</td></tr><tr><td>A-15865</td><td>Dakota</td></tr><tr><td>A-16065</td><td>Harris</td></tr><tr><td>A-16087</td><td>Dallas</td></tr><tr><td>A-16103</td><td>Tarrant</td></tr><tr><td>A-16157</td><td>Dallas</td></tr><tr><td>A-16229</td><td>Harris</td></tr><tr><td>A-16261</td><td>Dallas</td></tr><tr><td>A-16278</td><td>Madison</td></tr><tr><td>A-16428</td><td>Hennepin</td></tr><tr><td>A-17200</td><td>Dallas</td></tr><tr><td>A-17563</td><td>Dallas</td></tr><tr><td>A-17655</td><td>Dallas</td></tr><tr><td>A-17785</td><td>Fillmore</td></tr><tr><td>A-18619</td><td>Logan</td></tr><tr><td>A-18639</td><td>Ramsey</td></tr><tr><td>A-18719</td><td>Dallas</td></tr><tr><td>A-18844</td><td>Tarrant</td></tr><tr><td>A-18912</td><td>Harris</td></tr><tr><td>A-18997</td><td>Ellis</td></tr><tr><td>A-19345</td><td>El Paso</td></tr><tr><td>A-19660</td><td>Geary</td></tr><tr><td>A-20040</td><td>Hennepin</td></tr><tr><td>A-20178</td><td>Hennepin</td></tr><tr><td>A-20542</td><td>Dallas</td></tr><tr><td>A-20729</td><td>Dallas</td></tr><tr><td>A-20835</td><td>Johnson</td></tr><tr><td>A-20865</td><td>Dallas</td></tr><tr><td>A-21195</td><td>Dallas</td></tr><tr><td>A-21452</td><td>Hill</td></tr><tr><td>A-21522</td><td>Dallas</td></tr><tr><td>A-22000</td><td>Dallas</td></tr><tr><td>A-22367</td><td>Monroe</td></tr></tbody></table></div>"
      ]
     },
     "metadata": {
      "application/vnd.databricks.v1+output": {
       "addedWidgets": {},
       "aggData": [],
       "aggError": "",
       "aggOverflow": false,
       "aggSchema": [],
       "aggSeriesLimitReached": false,
       "aggType": "",
       "arguments": {},
       "columnCustomDisplayInfos": {},
       "data": [
        [
         "A-218",
         "Franklin"
        ],
        [
         "A-932",
         "Montgomery"
        ],
        [
         "A-1457",
         "Santa Cruz"
        ],
        [
         "A-1862",
         "Sacramento"
        ],
        [
         "A-2599",
         "Santa Clara"
        ],
        [
         "A-2604",
         "Solano"
        ],
        [
         "A-2656",
         "Sacramento"
        ],
        [
         "A-2671",
         "Sacramento"
        ],
        [
         "A-3166",
         "Santa Cruz"
        ],
        [
         "A-3216",
         "Marin"
        ],
        [
         "A-3253",
         "Santa Clara"
        ],
        [
         "A-3304",
         "Contra Costa"
        ],
        [
         "A-3609",
         "Alameda"
        ],
        [
         "A-3941",
         "Alameda"
        ],
        [
         "A-4297",
         "Solano"
        ],
        [
         "A-4362",
         "Sacramento"
        ],
        [
         "A-4825",
         "Contra Costa"
        ],
        [
         "A-5117",
         "Alameda"
        ],
        [
         "A-5248",
         "Los Angeles"
        ],
        [
         "A-5258",
         "Los Angeles"
        ],
        [
         "A-5780",
         "Los Angeles"
        ],
        [
         "A-6205",
         "Los Angeles"
        ],
        [
         "A-6407",
         "Los Angeles"
        ],
        [
         "A-7110",
         "Los Angeles"
        ],
        [
         "A-7263",
         "Orange"
        ],
        [
         "A-8179",
         "Los Angeles"
        ],
        [
         "A-8223",
         "San Diego"
        ],
        [
         "A-8231",
         "Los Angeles"
        ],
        [
         "A-8694",
         "Los Angeles"
        ],
        [
         "A-8756",
         "San Diego"
        ],
        [
         "A-8919",
         "Los Angeles"
        ],
        [
         "A-9019",
         "Riverside"
        ],
        [
         "A-9154",
         "Orange"
        ],
        [
         "A-9660",
         "San Diego"
        ],
        [
         "A-10239",
         "Los Angeles"
        ],
        [
         "A-11106",
         "Los Angeles"
        ],
        [
         "A-11153",
         "Los Angeles"
        ],
        [
         "A-11310",
         "Los Angeles"
        ],
        [
         "A-11385",
         "Orange"
        ],
        [
         "A-11440",
         "Riverside"
        ],
        [
         "A-11952",
         "Steele"
        ],
        [
         "A-12097",
         "Dallas"
        ],
        [
         "A-12129",
         "Harris"
        ],
        [
         "A-12452",
         "Hennepin"
        ],
        [
         "A-12606",
         "Ramsey"
        ],
        [
         "A-12608",
         "Hennepin"
        ],
        [
         "A-12941",
         "Tarrant"
        ],
        [
         "A-13188",
         "Harris"
        ],
        [
         "A-13433",
         "Oklahoma"
        ],
        [
         "A-13757",
         "Adams"
        ],
        [
         "A-13945",
         "Bexar"
        ],
        [
         "A-14182",
         "Harris"
        ],
        [
         "A-14462",
         "Harris"
        ],
        [
         "A-14526",
         "Dakota"
        ],
        [
         "A-14618",
         "Dallas"
        ],
        [
         "A-14647",
         "Jackson"
        ],
        [
         "A-14682",
         "Travis"
        ],
        [
         "A-14725",
         "Johnson"
        ],
        [
         "A-14835",
         "Hennepin"
        ],
        [
         "A-14930",
         "El Paso"
        ],
        [
         "A-15127",
         "Ramsey"
        ],
        [
         "A-15208",
         "El Paso"
        ],
        [
         "A-15266",
         "Jackson"
        ],
        [
         "A-15437",
         "Dallas"
        ],
        [
         "A-15647",
         "Harris"
        ],
        [
         "A-15678",
         "Hennepin"
        ],
        [
         "A-15771",
         "Ramsey"
        ],
        [
         "A-15802",
         "Hennepin"
        ],
        [
         "A-15865",
         "Dakota"
        ],
        [
         "A-16065",
         "Harris"
        ],
        [
         "A-16087",
         "Dallas"
        ],
        [
         "A-16103",
         "Tarrant"
        ],
        [
         "A-16157",
         "Dallas"
        ],
        [
         "A-16229",
         "Harris"
        ],
        [
         "A-16261",
         "Dallas"
        ],
        [
         "A-16278",
         "Madison"
        ],
        [
         "A-16428",
         "Hennepin"
        ],
        [
         "A-17200",
         "Dallas"
        ],
        [
         "A-17563",
         "Dallas"
        ],
        [
         "A-17655",
         "Dallas"
        ],
        [
         "A-17785",
         "Fillmore"
        ],
        [
         "A-18619",
         "Logan"
        ],
        [
         "A-18639",
         "Ramsey"
        ],
        [
         "A-18719",
         "Dallas"
        ],
        [
         "A-18844",
         "Tarrant"
        ],
        [
         "A-18912",
         "Harris"
        ],
        [
         "A-18997",
         "Ellis"
        ],
        [
         "A-19345",
         "El Paso"
        ],
        [
         "A-19660",
         "Geary"
        ],
        [
         "A-20040",
         "Hennepin"
        ],
        [
         "A-20178",
         "Hennepin"
        ],
        [
         "A-20542",
         "Dallas"
        ],
        [
         "A-20729",
         "Dallas"
        ],
        [
         "A-20835",
         "Johnson"
        ],
        [
         "A-20865",
         "Dallas"
        ],
        [
         "A-21195",
         "Dallas"
        ],
        [
         "A-21452",
         "Hill"
        ],
        [
         "A-21522",
         "Dallas"
        ],
        [
         "A-22000",
         "Dallas"
        ],
        [
         "A-22367",
         "Monroe"
        ]
       ],
       "datasetInfos": [],
       "dbfsResultPath": null,
       "isJsonSchema": true,
       "metadata": {},
       "overflow": false,
       "plotOptions": {
        "customPlotOptions": {},
        "displayType": "table",
        "pivotAggregation": null,
        "pivotColumns": null,
        "xColumns": null,
        "yColumns": null
       },
       "removedWidgets": [],
       "schema": [
        {
         "metadata": "{}",
         "name": "ID",
         "type": "\"string\""
        },
        {
         "metadata": "{}",
         "name": "County",
         "type": "\"string\""
        }
       ],
       "type": "table"
      }
     },
     "output_type": "display_data"
    }
   ],
   "source": [
    "%sql \n",
    "SELECT * FROM county LIMIT 100"
   ]
  },
  {
   "cell_type": "code",
   "execution_count": 0,
   "metadata": {
    "application/vnd.databricks.v1+cell": {
     "cellMetadata": {
      "byteLimit": 2048000,
      "implicitDf": true,
      "rowLimit": 10000
     },
     "inputWidgets": {},
     "nuid": "a92debbf-5150-448c-9287-93b1266eefb1",
     "showTitle": false,
     "title": ""
    }
   },
   "outputs": [
    {
     "output_type": "display_data",
     "data": {
      "text/html": [
       "<style scoped>\n  .table-result-container {\n    max-height: 300px;\n    overflow: auto;\n  }\n  table, th, td {\n    border: 1px solid black;\n    border-collapse: collapse;\n  }\n  th, td {\n    padding: 5px;\n  }\n  th {\n    text-align: left;\n  }\n</style><div class='table-result-container'><table class='table-result'><thead style='background-color: white'><tr></tr></thead><tbody></tbody></table></div>"
      ]
     },
     "metadata": {
      "application/vnd.databricks.v1+output": {
       "addedWidgets": {},
       "aggData": [],
       "aggError": "",
       "aggOverflow": false,
       "aggSchema": [],
       "aggSeriesLimitReached": false,
       "aggType": "",
       "arguments": {},
       "columnCustomDisplayInfos": {},
       "data": [],
       "datasetInfos": [],
       "dbfsResultPath": null,
       "isJsonSchema": true,
       "metadata": {},
       "overflow": false,
       "plotOptions": {
        "customPlotOptions": {},
        "displayType": "table",
        "pivotAggregation": null,
        "pivotColumns": null,
        "xColumns": null,
        "yColumns": null
       },
       "removedWidgets": [],
       "schema": [],
       "type": "table"
      }
     },
     "output_type": "display_data"
    }
   ],
   "source": [
    "%sql \n",
    "CREATE TABLE location USING DELTA LOCATION \"s3://accidentszone/delta_tables/location/\""
   ]
  },
  {
   "cell_type": "code",
   "execution_count": 0,
   "metadata": {
    "application/vnd.databricks.v1+cell": {
     "cellMetadata": {
      "byteLimit": 2048000,
      "implicitDf": true,
      "rowLimit": 10000
     },
     "inputWidgets": {},
     "nuid": "ba4ed480-5083-4e19-986e-20a736089fb0",
     "showTitle": false,
     "title": ""
    }
   },
   "outputs": [
    {
     "output_type": "display_data",
     "data": {
      "text/html": [
       "<style scoped>\n  .table-result-container {\n    max-height: 300px;\n    overflow: auto;\n  }\n  table, th, td {\n    border: 1px solid black;\n    border-collapse: collapse;\n  }\n  th, td {\n    padding: 5px;\n  }\n  th {\n    text-align: left;\n  }\n</style><div class='table-result-container'><table class='table-result'><thead style='background-color: white'><tr><th>ID</th><th>Start_Lat</th><th>Start_Lng</th><th>City</th><th>State</th><th>Zipcode</th><th>Country</th></tr></thead><tbody><tr><td>A-218</td><td>39.95085</td><td>-82.94428</td><td>Columbus</td><td>OH</td><td>43205</td><td>US</td></tr><tr><td>A-932</td><td>39.818751</td><td>-84.167637</td><td>Dayton</td><td>OH</td><td>45414</td><td>US</td></tr><tr><td>A-1457</td><td>36.98743</td><td>-121.98838</td><td>Santa Cruz</td><td>CA</td><td>95062</td><td>US</td></tr><tr><td>A-1862</td><td>38.49797</td><td>-121.44812</td><td>Sacramento</td><td>CA</td><td>95823</td><td>US</td></tr><tr><td>A-2599</td><td>37.38665</td><td>-121.90556</td><td>San Jose</td><td>CA</td><td>95131</td><td>US</td></tr><tr><td>A-2604</td><td>38.10683</td><td>-122.22955</td><td>Vallejo</td><td>CA</td><td>94591</td><td>US</td></tr><tr><td>A-2656</td><td>38.62837</td><td>-121.22151</td><td>Rancho Cordova</td><td>CA</td><td>95742</td><td>US</td></tr><tr><td>A-2671</td><td>38.532655</td><td>-121.4092</td><td>Sacramento</td><td>CA</td><td>95826-4341</td><td>US</td></tr><tr><td>A-3166</td><td>37.0498</td><td>-122.06585</td><td>Felton</td><td>CA</td><td>95018-9781</td><td>US</td></tr><tr><td>A-3216</td><td>37.90264</td><td>-122.51424</td><td>Mill Valley</td><td>CA</td><td>94941-1917</td><td>US</td></tr><tr><td>A-3253</td><td>37.32497</td><td>-121.94052</td><td>San Jose</td><td>CA</td><td>95128</td><td>US</td></tr><tr><td>A-3304</td><td>37.92036</td><td>-122.06244</td><td>Walnut Creek</td><td>CA</td><td>94597</td><td>US</td></tr><tr><td>A-3609</td><td>37.70209</td><td>-122.03649</td><td>Castro Valley</td><td>CA</td><td>94552</td><td>US</td></tr><tr><td>A-3941</td><td>37.82617</td><td>-122.27674</td><td>Emeryville</td><td>CA</td><td>94608</td><td>US</td></tr><tr><td>A-4297</td><td>38.21231</td><td>-122.12836</td><td>Fairfield</td><td>CA</td><td>94534</td><td>US</td></tr><tr><td>A-4362</td><td>38.579412</td><td>-121.41549</td><td>Sacramento</td><td>CA</td><td>95825-4686</td><td>US</td></tr><tr><td>A-4825</td><td>37.86312</td><td>-122.03592</td><td>Alamo</td><td>CA</td><td>94507-1104</td><td>US</td></tr><tr><td>A-5117</td><td>37.682753</td><td>-122.126304</td><td>San Lorenzo</td><td>CA</td><td>94580</td><td>US</td></tr><tr><td>A-5248</td><td>34.00712</td><td>-117.8262</td><td>Diamond Bar</td><td>CA</td><td>91765</td><td>US</td></tr><tr><td>A-5258</td><td>34.07248</td><td>-117.93242</td><td>West Covina</td><td>CA</td><td>91790</td><td>US</td></tr><tr><td>A-5780</td><td>34.0934</td><td>-118.24194</td><td>Los Angeles</td><td>CA</td><td>90031</td><td>US</td></tr><tr><td>A-6205</td><td>33.87275</td><td>-118.20232</td><td>Long Beach</td><td>CA</td><td>90805</td><td>US</td></tr><tr><td>A-6407</td><td>34.27186</td><td>-118.34949</td><td>Sylmar</td><td>CA</td><td>91342</td><td>US</td></tr><tr><td>A-7110</td><td>34.04966</td><td>-118.21417</td><td>Los Angeles</td><td>CA</td><td>90033</td><td>US</td></tr><tr><td>A-7263</td><td>33.82165</td><td>-117.87627</td><td>Anaheim</td><td>CA</td><td>92806</td><td>US</td></tr><tr><td>A-8179</td><td>34.06116</td><td>-118.45664</td><td>Los Angeles</td><td>CA</td><td>90049</td><td>US</td></tr><tr><td>A-8223</td><td>32.89061</td><td>-117.22752</td><td>San Diego</td><td>CA</td><td>92121</td><td>US</td></tr><tr><td>A-8231</td><td>34.01938</td><td>-118.17329</td><td>Los Angeles</td><td>CA</td><td>90022</td><td>US</td></tr><tr><td>A-8694</td><td>34.41931</td><td>-118.58112</td><td>Valencia</td><td>CA</td><td>91355</td><td>US</td></tr><tr><td>A-8756</td><td>32.77961</td><td>-116.98405</td><td>El Cajon</td><td>CA</td><td>92020</td><td>US</td></tr><tr><td>A-8919</td><td>33.932861</td><td>-118.29159</td><td>Los Angeles</td><td>CA</td><td>90044-1302</td><td>US</td></tr><tr><td>A-9019</td><td>33.91632</td><td>-117.32864</td><td>Riverside</td><td>CA</td><td>92508</td><td>US</td></tr><tr><td>A-9154</td><td>33.85693</td><td>-117.97626</td><td>Anaheim</td><td>CA</td><td>92801</td><td>US</td></tr><tr><td>A-9660</td><td>32.77872</td><td>-117.11228</td><td>San Diego</td><td>CA</td><td>92108</td><td>US</td></tr><tr><td>A-10239</td><td>33.83242</td><td>-118.20899</td><td>Long Beach</td><td>CA</td><td>90810</td><td>US</td></tr><tr><td>A-11106</td><td>34.06839</td><td>-117.97457</td><td>Baldwin Park</td><td>CA</td><td>91706</td><td>US</td></tr><tr><td>A-11153</td><td>34.01065</td><td>-118.2811</td><td>Los Angeles</td><td>CA</td><td>90037</td><td>US</td></tr><tr><td>A-11310</td><td>34.29689</td><td>-118.41673</td><td>Sylmar</td><td>CA</td><td>91342</td><td>US</td></tr><tr><td>A-11385</td><td>33.85801</td><td>-117.87591</td><td>Placentia</td><td>CA</td><td>92870</td><td>US</td></tr><tr><td>A-11440</td><td>33.95669</td><td>-117.30653</td><td>Riverside</td><td>CA</td><td>92507</td><td>US</td></tr><tr><td>A-11952</td><td>44.08074</td><td>-93.2482</td><td>Owatonna</td><td>MN</td><td>55060</td><td>US</td></tr><tr><td>A-12097</td><td>32.71821</td><td>-96.82807</td><td>Dallas</td><td>TX</td><td>75224</td><td>US</td></tr><tr><td>A-12129</td><td>29.93897</td><td>-95.35286</td><td>Houston</td><td>TX</td><td>77032</td><td>US</td></tr><tr><td>A-12452</td><td>44.97147</td><td>-93.36543</td><td>Minneapolis</td><td>MN</td><td>55426</td><td>US</td></tr><tr><td>A-12606</td><td>44.961231</td><td>-93.090345</td><td>Saint Paul</td><td>MN</td><td>55130</td><td>US</td></tr><tr><td>A-12608</td><td>44.97121</td><td>-93.37512</td><td>Minneapolis</td><td>MN</td><td>55426</td><td>US</td></tr><tr><td>A-12941</td><td>32.79951</td><td>-97.22504</td><td>Fort Worth</td><td>TX</td><td>76118</td><td>US</td></tr><tr><td>A-13188</td><td>29.60294</td><td>-95.38695</td><td>Houston</td><td>TX</td><td>77047</td><td>US</td></tr><tr><td>A-13433</td><td>35.423509</td><td>-97.486812</td><td>Oklahoma City</td><td>OK</td><td>73129</td><td>US</td></tr><tr><td>A-13757</td><td>39.87186</td><td>-104.9877</td><td>Denver</td><td>CO</td><td>80229</td><td>US</td></tr><tr><td>A-13945</td><td>29.51593</td><td>-98.41461</td><td>San Antonio</td><td>TX</td><td>78217</td><td>US</td></tr><tr><td>A-14182</td><td>29.96837</td><td>-95.4199</td><td>Houston</td><td>TX</td><td>77090</td><td>US</td></tr><tr><td>A-14462</td><td>29.85754</td><td>-95.40148</td><td>Houston</td><td>TX</td><td>77076</td><td>US</td></tr><tr><td>A-14526</td><td>44.78076</td><td>-93.21272</td><td>Saint Paul</td><td>MN</td><td>55122</td><td>US</td></tr><tr><td>A-14618</td><td>32.92353</td><td>-96.75704</td><td>Dallas</td><td>TX</td><td>75243</td><td>US</td></tr><tr><td>A-14647</td><td>39.07286</td><td>-94.53079</td><td>Kansas City</td><td>MO</td><td>64128</td><td>US</td></tr><tr><td>A-14682</td><td>30.40036</td><td>-97.743742</td><td>Austin</td><td>TX</td><td>78759</td><td>US</td></tr><tr><td>A-14725</td><td>38.965991</td><td>-94.723629</td><td>Lenexa</td><td>KS</td><td>66215</td><td>US</td></tr><tr><td>A-14835</td><td>44.97041</td><td>-93.34599</td><td>Minneapolis</td><td>MN</td><td>55416</td><td>US</td></tr><tr><td>A-14930</td><td>38.93284</td><td>-104.807922</td><td>Colorado Springs</td><td>CO</td><td>80918</td><td>US</td></tr><tr><td>A-15127</td><td>45.08312</td><td>-93.05307</td><td>Saint Paul</td><td>MN</td><td>55127</td><td>US</td></tr><tr><td>A-15208</td><td>38.786211</td><td>-104.790691</td><td>Colorado Springs</td><td>CO</td><td>80906</td><td>US</td></tr><tr><td>A-15266</td><td>38.90224</td><td>-94.34557</td><td>Lees Summit</td><td>MO</td><td>64081</td><td>US</td></tr><tr><td>A-15437</td><td>32.70214</td><td>-96.83461</td><td>Dallas</td><td>TX</td><td>75224</td><td>US</td></tr><tr><td>A-15647</td><td>29.76383</td><td>-95.5591</td><td>Houston</td><td>TX</td><td>77024</td><td>US</td></tr><tr><td>A-15678</td><td>44.84391</td><td>-93.29834</td><td>Minneapolis</td><td>MN</td><td>55431</td><td>US</td></tr><tr><td>A-15771</td><td>45.02477</td><td>-93.19077</td><td>Saint Paul</td><td>MN</td><td>55113</td><td>US</td></tr><tr><td>A-15802</td><td>44.96602</td><td>-93.26571</td><td>Minneapolis</td><td>MN</td><td>55404</td><td>US</td></tr><tr><td>A-15865</td><td>44.80777</td><td>-93.18825</td><td>Saint Paul</td><td>MN</td><td>55122</td><td>US</td></tr><tr><td>A-16065</td><td>29.95724</td><td>-95.36578</td><td>Houston</td><td>TX</td><td>77032</td><td>US</td></tr><tr><td>A-16087</td><td>32.79415</td><td>-96.81478</td><td>Dallas</td><td>TX</td><td>75207</td><td>US</td></tr><tr><td>A-16103</td><td>32.76668</td><td>-97.31343</td><td>Fort Worth</td><td>TX</td><td>76102</td><td>US</td></tr><tr><td>A-16157</td><td>32.79076</td><td>-96.75858</td><td>Dallas</td><td>TX</td><td>75223</td><td>US</td></tr><tr><td>A-16229</td><td>29.71502</td><td>-95.50128</td><td>Houston</td><td>TX</td><td>77074</td><td>US</td></tr><tr><td>A-16261</td><td>32.764038</td><td>-96.621163</td><td>Mesquite</td><td>TX</td><td>75149</td><td>US</td></tr><tr><td>A-16278</td><td>41.49366</td><td>-94.23755</td><td>Dexter</td><td>IA</td><td>50070</td><td>US</td></tr><tr><td>A-16428</td><td>44.89049</td><td>-93.29015</td><td>Minneapolis</td><td>MN</td><td>55419</td><td>US</td></tr><tr><td>A-17200</td><td>32.94463</td><td>-96.92866</td><td>Carrollton</td><td>TX</td><td>75006</td><td>US</td></tr><tr><td>A-17563</td><td>32.916237</td><td>-96.861564</td><td>Dallas</td><td>TX</td><td>75234</td><td>US</td></tr><tr><td>A-17655</td><td>32.6423</td><td>-96.83391</td><td>Dallas</td><td>TX</td><td>75232</td><td>US</td></tr><tr><td>A-17785</td><td>43.847989</td><td>-92.191838</td><td>Chatfield</td><td>MN</td><td>55923-1159</td><td>US</td></tr><tr><td>A-18619</td><td>39.11924</td><td>-100.84932</td><td>Oakley</td><td>KS</td><td>67748</td><td>US</td></tr><tr><td>A-18639</td><td>44.9509</td><td>-93.10008</td><td>Saint Paul</td><td>MN</td><td>55102</td><td>US</td></tr><tr><td>A-18719</td><td>32.82574</td><td>-96.8831</td><td>Dallas</td><td>TX</td><td>75247</td><td>US</td></tr><tr><td>A-18844</td><td>32.68344</td><td>-97.40668</td><td>Fort Worth</td><td>TX</td><td>76132</td><td>US</td></tr><tr><td>A-18912</td><td>29.63853</td><td>-95.38691</td><td>Houston</td><td>TX</td><td>77051</td><td>US</td></tr><tr><td>A-18997</td><td>32.39028</td><td>-96.86922</td><td>Waxahachie</td><td>TX</td><td>75165</td><td>US</td></tr><tr><td>A-19345</td><td>38.93286</td><td>-104.805979</td><td>Colorado Springs</td><td>CO</td><td>80920-3181</td><td>US</td></tr><tr><td>A-19660</td><td>39.06053</td><td>-96.7367</td><td>Junction City</td><td>KS</td><td>66441</td><td>US</td></tr><tr><td>A-20040</td><td>45.06915</td><td>-93.29395</td><td>Minneapolis</td><td>MN</td><td>55430</td><td>US</td></tr><tr><td>A-20178</td><td>45.06949</td><td>-93.29134</td><td>Minneapolis</td><td>MN</td><td>55430</td><td>US</td></tr><tr><td>A-20542</td><td>32.984508</td><td>-96.712033</td><td>Richardson</td><td>TX</td><td>75080</td><td>US</td></tr><tr><td>A-20729</td><td>32.81979</td><td>-96.92123</td><td>Irving</td><td>TX</td><td>75061</td><td>US</td></tr><tr><td>A-20835</td><td>39.04218</td><td>-94.6675</td><td>Shawnee</td><td>KS</td><td>66203</td><td>US</td></tr><tr><td>A-20865</td><td>32.7923</td><td>-96.79835</td><td>Dallas</td><td>TX</td><td>75201</td><td>US</td></tr><tr><td>A-21195</td><td>32.87239</td><td>-96.67966</td><td>Dallas</td><td>TX</td><td>75238</td><td>US</td></tr><tr><td>A-21452</td><td>32.05938</td><td>-97.08747</td><td>Hillsboro</td><td>TX</td><td>76645</td><td>US</td></tr><tr><td>A-21522</td><td>32.63682</td><td>-96.82336</td><td>Lancaster</td><td>TX</td><td>75134</td><td>US</td></tr><tr><td>A-22000</td><td>32.974998</td><td>-96.716499</td><td>Richardson</td><td>TX</td><td>75080</td><td>US</td></tr><tr><td>A-22367</td><td>44.006026</td><td>-90.50511</td><td>Tomah</td><td>WI</td><td>54660</td><td>US</td></tr></tbody></table></div>"
      ]
     },
     "metadata": {
      "application/vnd.databricks.v1+output": {
       "addedWidgets": {},
       "aggData": [],
       "aggError": "",
       "aggOverflow": false,
       "aggSchema": [],
       "aggSeriesLimitReached": false,
       "aggType": "",
       "arguments": {},
       "columnCustomDisplayInfos": {},
       "data": [
        [
         "A-218",
         "39.95085",
         "-82.94428",
         "Columbus",
         "OH",
         "43205",
         "US"
        ],
        [
         "A-932",
         "39.818751",
         "-84.167637",
         "Dayton",
         "OH",
         "45414",
         "US"
        ],
        [
         "A-1457",
         "36.98743",
         "-121.98838",
         "Santa Cruz",
         "CA",
         "95062",
         "US"
        ],
        [
         "A-1862",
         "38.49797",
         "-121.44812",
         "Sacramento",
         "CA",
         "95823",
         "US"
        ],
        [
         "A-2599",
         "37.38665",
         "-121.90556",
         "San Jose",
         "CA",
         "95131",
         "US"
        ],
        [
         "A-2604",
         "38.10683",
         "-122.22955",
         "Vallejo",
         "CA",
         "94591",
         "US"
        ],
        [
         "A-2656",
         "38.62837",
         "-121.22151",
         "Rancho Cordova",
         "CA",
         "95742",
         "US"
        ],
        [
         "A-2671",
         "38.532655",
         "-121.4092",
         "Sacramento",
         "CA",
         "95826-4341",
         "US"
        ],
        [
         "A-3166",
         "37.0498",
         "-122.06585",
         "Felton",
         "CA",
         "95018-9781",
         "US"
        ],
        [
         "A-3216",
         "37.90264",
         "-122.51424",
         "Mill Valley",
         "CA",
         "94941-1917",
         "US"
        ],
        [
         "A-3253",
         "37.32497",
         "-121.94052",
         "San Jose",
         "CA",
         "95128",
         "US"
        ],
        [
         "A-3304",
         "37.92036",
         "-122.06244",
         "Walnut Creek",
         "CA",
         "94597",
         "US"
        ],
        [
         "A-3609",
         "37.70209",
         "-122.03649",
         "Castro Valley",
         "CA",
         "94552",
         "US"
        ],
        [
         "A-3941",
         "37.82617",
         "-122.27674",
         "Emeryville",
         "CA",
         "94608",
         "US"
        ],
        [
         "A-4297",
         "38.21231",
         "-122.12836",
         "Fairfield",
         "CA",
         "94534",
         "US"
        ],
        [
         "A-4362",
         "38.579412",
         "-121.41549",
         "Sacramento",
         "CA",
         "95825-4686",
         "US"
        ],
        [
         "A-4825",
         "37.86312",
         "-122.03592",
         "Alamo",
         "CA",
         "94507-1104",
         "US"
        ],
        [
         "A-5117",
         "37.682753",
         "-122.126304",
         "San Lorenzo",
         "CA",
         "94580",
         "US"
        ],
        [
         "A-5248",
         "34.00712",
         "-117.8262",
         "Diamond Bar",
         "CA",
         "91765",
         "US"
        ],
        [
         "A-5258",
         "34.07248",
         "-117.93242",
         "West Covina",
         "CA",
         "91790",
         "US"
        ],
        [
         "A-5780",
         "34.0934",
         "-118.24194",
         "Los Angeles",
         "CA",
         "90031",
         "US"
        ],
        [
         "A-6205",
         "33.87275",
         "-118.20232",
         "Long Beach",
         "CA",
         "90805",
         "US"
        ],
        [
         "A-6407",
         "34.27186",
         "-118.34949",
         "Sylmar",
         "CA",
         "91342",
         "US"
        ],
        [
         "A-7110",
         "34.04966",
         "-118.21417",
         "Los Angeles",
         "CA",
         "90033",
         "US"
        ],
        [
         "A-7263",
         "33.82165",
         "-117.87627",
         "Anaheim",
         "CA",
         "92806",
         "US"
        ],
        [
         "A-8179",
         "34.06116",
         "-118.45664",
         "Los Angeles",
         "CA",
         "90049",
         "US"
        ],
        [
         "A-8223",
         "32.89061",
         "-117.22752",
         "San Diego",
         "CA",
         "92121",
         "US"
        ],
        [
         "A-8231",
         "34.01938",
         "-118.17329",
         "Los Angeles",
         "CA",
         "90022",
         "US"
        ],
        [
         "A-8694",
         "34.41931",
         "-118.58112",
         "Valencia",
         "CA",
         "91355",
         "US"
        ],
        [
         "A-8756",
         "32.77961",
         "-116.98405",
         "El Cajon",
         "CA",
         "92020",
         "US"
        ],
        [
         "A-8919",
         "33.932861",
         "-118.29159",
         "Los Angeles",
         "CA",
         "90044-1302",
         "US"
        ],
        [
         "A-9019",
         "33.91632",
         "-117.32864",
         "Riverside",
         "CA",
         "92508",
         "US"
        ],
        [
         "A-9154",
         "33.85693",
         "-117.97626",
         "Anaheim",
         "CA",
         "92801",
         "US"
        ],
        [
         "A-9660",
         "32.77872",
         "-117.11228",
         "San Diego",
         "CA",
         "92108",
         "US"
        ],
        [
         "A-10239",
         "33.83242",
         "-118.20899",
         "Long Beach",
         "CA",
         "90810",
         "US"
        ],
        [
         "A-11106",
         "34.06839",
         "-117.97457",
         "Baldwin Park",
         "CA",
         "91706",
         "US"
        ],
        [
         "A-11153",
         "34.01065",
         "-118.2811",
         "Los Angeles",
         "CA",
         "90037",
         "US"
        ],
        [
         "A-11310",
         "34.29689",
         "-118.41673",
         "Sylmar",
         "CA",
         "91342",
         "US"
        ],
        [
         "A-11385",
         "33.85801",
         "-117.87591",
         "Placentia",
         "CA",
         "92870",
         "US"
        ],
        [
         "A-11440",
         "33.95669",
         "-117.30653",
         "Riverside",
         "CA",
         "92507",
         "US"
        ],
        [
         "A-11952",
         "44.08074",
         "-93.2482",
         "Owatonna",
         "MN",
         "55060",
         "US"
        ],
        [
         "A-12097",
         "32.71821",
         "-96.82807",
         "Dallas",
         "TX",
         "75224",
         "US"
        ],
        [
         "A-12129",
         "29.93897",
         "-95.35286",
         "Houston",
         "TX",
         "77032",
         "US"
        ],
        [
         "A-12452",
         "44.97147",
         "-93.36543",
         "Minneapolis",
         "MN",
         "55426",
         "US"
        ],
        [
         "A-12606",
         "44.961231",
         "-93.090345",
         "Saint Paul",
         "MN",
         "55130",
         "US"
        ],
        [
         "A-12608",
         "44.97121",
         "-93.37512",
         "Minneapolis",
         "MN",
         "55426",
         "US"
        ],
        [
         "A-12941",
         "32.79951",
         "-97.22504",
         "Fort Worth",
         "TX",
         "76118",
         "US"
        ],
        [
         "A-13188",
         "29.60294",
         "-95.38695",
         "Houston",
         "TX",
         "77047",
         "US"
        ],
        [
         "A-13433",
         "35.423509",
         "-97.486812",
         "Oklahoma City",
         "OK",
         "73129",
         "US"
        ],
        [
         "A-13757",
         "39.87186",
         "-104.9877",
         "Denver",
         "CO",
         "80229",
         "US"
        ],
        [
         "A-13945",
         "29.51593",
         "-98.41461",
         "San Antonio",
         "TX",
         "78217",
         "US"
        ],
        [
         "A-14182",
         "29.96837",
         "-95.4199",
         "Houston",
         "TX",
         "77090",
         "US"
        ],
        [
         "A-14462",
         "29.85754",
         "-95.40148",
         "Houston",
         "TX",
         "77076",
         "US"
        ],
        [
         "A-14526",
         "44.78076",
         "-93.21272",
         "Saint Paul",
         "MN",
         "55122",
         "US"
        ],
        [
         "A-14618",
         "32.92353",
         "-96.75704",
         "Dallas",
         "TX",
         "75243",
         "US"
        ],
        [
         "A-14647",
         "39.07286",
         "-94.53079",
         "Kansas City",
         "MO",
         "64128",
         "US"
        ],
        [
         "A-14682",
         "30.40036",
         "-97.743742",
         "Austin",
         "TX",
         "78759",
         "US"
        ],
        [
         "A-14725",
         "38.965991",
         "-94.723629",
         "Lenexa",
         "KS",
         "66215",
         "US"
        ],
        [
         "A-14835",
         "44.97041",
         "-93.34599",
         "Minneapolis",
         "MN",
         "55416",
         "US"
        ],
        [
         "A-14930",
         "38.93284",
         "-104.807922",
         "Colorado Springs",
         "CO",
         "80918",
         "US"
        ],
        [
         "A-15127",
         "45.08312",
         "-93.05307",
         "Saint Paul",
         "MN",
         "55127",
         "US"
        ],
        [
         "A-15208",
         "38.786211",
         "-104.790691",
         "Colorado Springs",
         "CO",
         "80906",
         "US"
        ],
        [
         "A-15266",
         "38.90224",
         "-94.34557",
         "Lees Summit",
         "MO",
         "64081",
         "US"
        ],
        [
         "A-15437",
         "32.70214",
         "-96.83461",
         "Dallas",
         "TX",
         "75224",
         "US"
        ],
        [
         "A-15647",
         "29.76383",
         "-95.5591",
         "Houston",
         "TX",
         "77024",
         "US"
        ],
        [
         "A-15678",
         "44.84391",
         "-93.29834",
         "Minneapolis",
         "MN",
         "55431",
         "US"
        ],
        [
         "A-15771",
         "45.02477",
         "-93.19077",
         "Saint Paul",
         "MN",
         "55113",
         "US"
        ],
        [
         "A-15802",
         "44.96602",
         "-93.26571",
         "Minneapolis",
         "MN",
         "55404",
         "US"
        ],
        [
         "A-15865",
         "44.80777",
         "-93.18825",
         "Saint Paul",
         "MN",
         "55122",
         "US"
        ],
        [
         "A-16065",
         "29.95724",
         "-95.36578",
         "Houston",
         "TX",
         "77032",
         "US"
        ],
        [
         "A-16087",
         "32.79415",
         "-96.81478",
         "Dallas",
         "TX",
         "75207",
         "US"
        ],
        [
         "A-16103",
         "32.76668",
         "-97.31343",
         "Fort Worth",
         "TX",
         "76102",
         "US"
        ],
        [
         "A-16157",
         "32.79076",
         "-96.75858",
         "Dallas",
         "TX",
         "75223",
         "US"
        ],
        [
         "A-16229",
         "29.71502",
         "-95.50128",
         "Houston",
         "TX",
         "77074",
         "US"
        ],
        [
         "A-16261",
         "32.764038",
         "-96.621163",
         "Mesquite",
         "TX",
         "75149",
         "US"
        ],
        [
         "A-16278",
         "41.49366",
         "-94.23755",
         "Dexter",
         "IA",
         "50070",
         "US"
        ],
        [
         "A-16428",
         "44.89049",
         "-93.29015",
         "Minneapolis",
         "MN",
         "55419",
         "US"
        ],
        [
         "A-17200",
         "32.94463",
         "-96.92866",
         "Carrollton",
         "TX",
         "75006",
         "US"
        ],
        [
         "A-17563",
         "32.916237",
         "-96.861564",
         "Dallas",
         "TX",
         "75234",
         "US"
        ],
        [
         "A-17655",
         "32.6423",
         "-96.83391",
         "Dallas",
         "TX",
         "75232",
         "US"
        ],
        [
         "A-17785",
         "43.847989",
         "-92.191838",
         "Chatfield",
         "MN",
         "55923-1159",
         "US"
        ],
        [
         "A-18619",
         "39.11924",
         "-100.84932",
         "Oakley",
         "KS",
         "67748",
         "US"
        ],
        [
         "A-18639",
         "44.9509",
         "-93.10008",
         "Saint Paul",
         "MN",
         "55102",
         "US"
        ],
        [
         "A-18719",
         "32.82574",
         "-96.8831",
         "Dallas",
         "TX",
         "75247",
         "US"
        ],
        [
         "A-18844",
         "32.68344",
         "-97.40668",
         "Fort Worth",
         "TX",
         "76132",
         "US"
        ],
        [
         "A-18912",
         "29.63853",
         "-95.38691",
         "Houston",
         "TX",
         "77051",
         "US"
        ],
        [
         "A-18997",
         "32.39028",
         "-96.86922",
         "Waxahachie",
         "TX",
         "75165",
         "US"
        ],
        [
         "A-19345",
         "38.93286",
         "-104.805979",
         "Colorado Springs",
         "CO",
         "80920-3181",
         "US"
        ],
        [
         "A-19660",
         "39.06053",
         "-96.7367",
         "Junction City",
         "KS",
         "66441",
         "US"
        ],
        [
         "A-20040",
         "45.06915",
         "-93.29395",
         "Minneapolis",
         "MN",
         "55430",
         "US"
        ],
        [
         "A-20178",
         "45.06949",
         "-93.29134",
         "Minneapolis",
         "MN",
         "55430",
         "US"
        ],
        [
         "A-20542",
         "32.984508",
         "-96.712033",
         "Richardson",
         "TX",
         "75080",
         "US"
        ],
        [
         "A-20729",
         "32.81979",
         "-96.92123",
         "Irving",
         "TX",
         "75061",
         "US"
        ],
        [
         "A-20835",
         "39.04218",
         "-94.6675",
         "Shawnee",
         "KS",
         "66203",
         "US"
        ],
        [
         "A-20865",
         "32.7923",
         "-96.79835",
         "Dallas",
         "TX",
         "75201",
         "US"
        ],
        [
         "A-21195",
         "32.87239",
         "-96.67966",
         "Dallas",
         "TX",
         "75238",
         "US"
        ],
        [
         "A-21452",
         "32.05938",
         "-97.08747",
         "Hillsboro",
         "TX",
         "76645",
         "US"
        ],
        [
         "A-21522",
         "32.63682",
         "-96.82336",
         "Lancaster",
         "TX",
         "75134",
         "US"
        ],
        [
         "A-22000",
         "32.974998",
         "-96.716499",
         "Richardson",
         "TX",
         "75080",
         "US"
        ],
        [
         "A-22367",
         "44.006026",
         "-90.50511",
         "Tomah",
         "WI",
         "54660",
         "US"
        ]
       ],
       "datasetInfos": [],
       "dbfsResultPath": null,
       "isJsonSchema": true,
       "metadata": {},
       "overflow": false,
       "plotOptions": {
        "customPlotOptions": {},
        "displayType": "table",
        "pivotAggregation": null,
        "pivotColumns": null,
        "xColumns": null,
        "yColumns": null
       },
       "removedWidgets": [],
       "schema": [
        {
         "metadata": "{}",
         "name": "ID",
         "type": "\"string\""
        },
        {
         "metadata": "{}",
         "name": "Start_Lat",
         "type": "\"string\""
        },
        {
         "metadata": "{}",
         "name": "Start_Lng",
         "type": "\"string\""
        },
        {
         "metadata": "{}",
         "name": "City",
         "type": "\"string\""
        },
        {
         "metadata": "{}",
         "name": "State",
         "type": "\"string\""
        },
        {
         "metadata": "{}",
         "name": "Zipcode",
         "type": "\"string\""
        },
        {
         "metadata": "{}",
         "name": "Country",
         "type": "\"string\""
        }
       ],
       "type": "table"
      }
     },
     "output_type": "display_data"
    }
   ],
   "source": [
    "%sql \n",
    "SELECT * FROM location LIMIT 100"
   ]
  },
  {
   "cell_type": "code",
   "execution_count": 0,
   "metadata": {
    "application/vnd.databricks.v1+cell": {
     "cellMetadata": {
      "byteLimit": 2048000,
      "implicitDf": true,
      "rowLimit": 10000
     },
     "inputWidgets": {},
     "nuid": "5e423b98-a9d7-4315-93b0-e100278e39b4",
     "showTitle": false,
     "title": ""
    }
   },
   "outputs": [
    {
     "output_type": "display_data",
     "data": {
      "text/html": [
       "<style scoped>\n  .table-result-container {\n    max-height: 300px;\n    overflow: auto;\n  }\n  table, th, td {\n    border: 1px solid black;\n    border-collapse: collapse;\n  }\n  th, td {\n    padding: 5px;\n  }\n  th {\n    text-align: left;\n  }\n</style><div class='table-result-container'><table class='table-result'><thead style='background-color: white'><tr></tr></thead><tbody></tbody></table></div>"
      ]
     },
     "metadata": {
      "application/vnd.databricks.v1+output": {
       "addedWidgets": {},
       "aggData": [],
       "aggError": "",
       "aggOverflow": false,
       "aggSchema": [],
       "aggSeriesLimitReached": false,
       "aggType": "",
       "arguments": {},
       "columnCustomDisplayInfos": {},
       "data": [],
       "datasetInfos": [],
       "dbfsResultPath": null,
       "isJsonSchema": true,
       "metadata": {},
       "overflow": false,
       "plotOptions": {
        "customPlotOptions": {},
        "displayType": "table",
        "pivotAggregation": null,
        "pivotColumns": null,
        "xColumns": null,
        "yColumns": null
       },
       "removedWidgets": [],
       "schema": [],
       "type": "table"
      }
     },
     "output_type": "display_data"
    }
   ],
   "source": [
    "%sql \n",
    "CREATE TABLE time USING DELTA LOCATION \"s3://accidentszone/delta_tables/time/\""
   ]
  },
  {
   "cell_type": "code",
   "execution_count": 0,
   "metadata": {
    "application/vnd.databricks.v1+cell": {
     "cellMetadata": {
      "byteLimit": 2048000,
      "implicitDf": true,
      "rowLimit": 10000
     },
     "inputWidgets": {},
     "nuid": "23946a05-0431-4f75-a693-5f1fe3d895bb",
     "showTitle": false,
     "title": ""
    }
   },
   "outputs": [
    {
     "output_type": "display_data",
     "data": {
      "text/html": [
       "<style scoped>\n  .table-result-container {\n    max-height: 300px;\n    overflow: auto;\n  }\n  table, th, td {\n    border: 1px solid black;\n    border-collapse: collapse;\n  }\n  th, td {\n    padding: 5px;\n  }\n  th {\n    text-align: left;\n  }\n</style><div class='table-result-container'><table class='table-result'><thead style='background-color: white'><tr><th>ID</th><th>Start_Time</th><th>End_Time</th><th>Sunrise_Sunset</th><th>Civil_Twilight</th><th>Nautical_Twilight</th><th>Astronomical_Twilight</th></tr></thead><tbody><tr><td>A-218</td><td>2/16/16 9:41</td><td>2/16/16 15:41</td><td>Day</td><td>Day</td><td>Day</td><td>Day</td></tr><tr><td>A-932</td><td>3/17/16 7:25</td><td>3/17/16 13:25</td><td>Night</td><td>Day</td><td>Day</td><td>Day</td></tr><tr><td>A-1457</td><td>4/1/16 20:41</td><td>4/2/16 2:41</td><td>Night</td><td>Night</td><td>Night</td><td>Day</td></tr><tr><td>A-1862</td><td>4/11/16 17:25</td><td>4/11/16 23:25</td><td>Day</td><td>Day</td><td>Day</td><td>Day</td></tr><tr><td>A-2599</td><td>4/26/16 18:17</td><td>4/27/16 0:17</td><td>Day</td><td>Day</td><td>Day</td><td>Day</td></tr><tr><td>A-2604</td><td>4/26/16 19:53</td><td>4/27/16 1:53</td><td>Day</td><td>Day</td><td>Day</td><td>Day</td></tr><tr><td>A-2656</td><td>4/27/16 16:56</td><td>4/27/16 22:56</td><td>Day</td><td>Day</td><td>Day</td><td>Day</td></tr><tr><td>A-2671</td><td>4/27/16 18:17</td><td>4/28/16 0:17</td><td>Day</td><td>Day</td><td>Day</td><td>Day</td></tr><tr><td>A-3166</td><td>5/10/16 17:37</td><td>5/10/16 23:37</td><td>Day</td><td>Day</td><td>Day</td><td>Day</td></tr><tr><td>A-3216</td><td>5/11/16 15:25</td><td>5/11/16 21:25</td><td>Day</td><td>Day</td><td>Day</td><td>Day</td></tr><tr><td>A-3253</td><td>5/12/16 6:41</td><td>5/12/16 12:41</td><td>Day</td><td>Day</td><td>Day</td><td>Day</td></tr><tr><td>A-3304</td><td>5/12/16 17:25</td><td>5/12/16 23:25</td><td>Day</td><td>Day</td><td>Day</td><td>Day</td></tr><tr><td>A-3609</td><td>5/19/16 6:27</td><td>5/19/16 12:27</td><td>Day</td><td>Day</td><td>Day</td><td>Day</td></tr><tr><td>A-3941</td><td>5/25/16 19:26</td><td>5/26/16 1:26</td><td>Day</td><td>Day</td><td>Day</td><td>Day</td></tr><tr><td>A-4297</td><td>5/31/16 12:43</td><td>5/31/16 18:43</td><td>Day</td><td>Day</td><td>Day</td><td>Day</td></tr><tr><td>A-4362</td><td>6/1/16 12:53</td><td>6/1/16 18:53</td><td>Day</td><td>Day</td><td>Day</td><td>Day</td></tr><tr><td>A-4825</td><td>6/10/16 11:39</td><td>6/10/16 17:39</td><td>Day</td><td>Day</td><td>Day</td><td>Day</td></tr><tr><td>A-5117</td><td>6/17/16 13:17</td><td>6/17/16 19:17</td><td>Day</td><td>Day</td><td>Day</td><td>Day</td></tr><tr><td>A-5248</td><td>3/23/16 5:55</td><td>3/23/16 11:55</td><td>Night</td><td>Night</td><td>Day</td><td>Day</td></tr><tr><td>A-5258</td><td>3/23/16 8:28</td><td>3/23/16 14:28</td><td>Day</td><td>Day</td><td>Day</td><td>Day</td></tr><tr><td>A-5780</td><td>3/31/16 10:59</td><td>3/31/16 16:59</td><td>Day</td><td>Day</td><td>Day</td><td>Day</td></tr><tr><td>A-6205</td><td>4/7/16 7:26</td><td>4/7/16 13:26</td><td>Day</td><td>Day</td><td>Day</td><td>Day</td></tr><tr><td>A-6407</td><td>4/10/16 15:57</td><td>4/10/16 21:57</td><td>Day</td><td>Day</td><td>Day</td><td>Day</td></tr><tr><td>A-7110</td><td>4/22/16 19:18</td><td>4/23/16 1:18</td><td>Day</td><td>Day</td><td>Day</td><td>Day</td></tr><tr><td>A-7263</td><td>4/26/16 18:54</td><td>4/27/16 0:54</td><td>Day</td><td>Day</td><td>Day</td><td>Day</td></tr><tr><td>A-8179</td><td>5/12/16 17:15</td><td>5/12/16 23:15</td><td>Day</td><td>Day</td><td>Day</td><td>Day</td></tr><tr><td>A-8223</td><td>5/16/16 11:51</td><td>5/16/16 17:51</td><td>Day</td><td>Day</td><td>Day</td><td>Day</td></tr><tr><td>A-8231</td><td>5/16/16 14:10</td><td>5/16/16 20:10</td><td>Day</td><td>Day</td><td>Day</td><td>Day</td></tr><tr><td>A-8694</td><td>5/19/16 11:12</td><td>5/19/16 17:12</td><td>Day</td><td>Day</td><td>Day</td><td>Day</td></tr><tr><td>A-8756</td><td>5/19/16 16:05</td><td>5/19/16 22:05</td><td>Day</td><td>Day</td><td>Day</td><td>Day</td></tr><tr><td>A-8919</td><td>5/20/16 13:59</td><td>5/20/16 19:59</td><td>Day</td><td>Day</td><td>Day</td><td>Day</td></tr><tr><td>A-9019</td><td>5/20/16 17:47</td><td>5/20/16 23:47</td><td>Day</td><td>Day</td><td>Day</td><td>Day</td></tr><tr><td>A-9154</td><td>5/22/16 23:08</td><td>5/23/16 5:08</td><td>Night</td><td>Night</td><td>Night</td><td>Night</td></tr><tr><td>A-9660</td><td>5/25/16 6:46</td><td>5/25/16 12:46</td><td>Day</td><td>Day</td><td>Day</td><td>Day</td></tr><tr><td>A-10239</td><td>5/27/16 9:30</td><td>5/27/16 15:30</td><td>Day</td><td>Day</td><td>Day</td><td>Day</td></tr><tr><td>A-11106</td><td>6/7/16 16:30</td><td>6/7/16 22:30</td><td>Day</td><td>Day</td><td>Day</td><td>Day</td></tr><tr><td>A-11153</td><td>6/7/16 23:14</td><td>6/8/16 5:14</td><td>Night</td><td>Night</td><td>Night</td><td>Night</td></tr><tr><td>A-11310</td><td>6/10/16 8:30</td><td>6/10/16 14:30</td><td>Day</td><td>Day</td><td>Day</td><td>Day</td></tr><tr><td>A-11385</td><td>6/11/16 18:41</td><td>6/12/16 0:41</td><td>Day</td><td>Day</td><td>Day</td><td>Day</td></tr><tr><td>A-11440</td><td>6/13/16 13:53</td><td>6/13/16 19:53</td><td>Day</td><td>Day</td><td>Day</td><td>Day</td></tr><tr><td>A-11952</td><td>12/2/16 4:54</td><td>12/2/16 10:54</td><td>Night</td><td>Night</td><td>Night</td><td>Night</td></tr><tr><td>A-12097</td><td>12/3/16 14:14</td><td>12/3/16 20:14</td><td>Day</td><td>Day</td><td>Day</td><td>Day</td></tr><tr><td>A-12129</td><td>12/3/16 22:34</td><td>12/4/16 4:34</td><td>Night</td><td>Night</td><td>Night</td><td>Night</td></tr><tr><td>A-12452</td><td>12/6/16 17:42</td><td>12/6/16 23:42</td><td>Night</td><td>Night</td><td>Night</td><td>Day</td></tr><tr><td>A-12606</td><td>12/7/16 17:49</td><td>12/7/16 23:49</td><td>Night</td><td>Night</td><td>Night</td><td>Day</td></tr><tr><td>A-12608</td><td>12/7/16 17:53</td><td>12/7/16 23:53</td><td>Night</td><td>Night</td><td>Night</td><td>Day</td></tr><tr><td>A-12941</td><td>12/11/16 3:17</td><td>12/11/16 9:17</td><td>Night</td><td>Night</td><td>Night</td><td>Night</td></tr><tr><td>A-13188</td><td>12/13/16 13:34</td><td>12/13/16 19:34</td><td>Day</td><td>Day</td><td>Day</td><td>Day</td></tr><tr><td>A-13433</td><td>12/15/16 17:27</td><td>12/15/16 23:27</td><td>Night</td><td>Day</td><td>Day</td><td>Day</td></tr><tr><td>A-13757</td><td>12/18/16 9:37</td><td>12/18/16 15:37</td><td>Day</td><td>Day</td><td>Day</td><td>Day</td></tr><tr><td>A-13945</td><td>12/20/16 15:59</td><td>12/20/16 21:59</td><td>Day</td><td>Day</td><td>Day</td><td>Day</td></tr><tr><td>A-14182</td><td>12/22/16 14:13</td><td>12/22/16 20:13</td><td>Day</td><td>Day</td><td>Day</td><td>Day</td></tr><tr><td>A-14462</td><td>12/27/16 11:41</td><td>12/27/16 17:41</td><td>Day</td><td>Day</td><td>Day</td><td>Day</td></tr><tr><td>A-14526</td><td>12/28/16 9:16</td><td>12/28/16 15:16</td><td>Day</td><td>Day</td><td>Day</td><td>Day</td></tr><tr><td>A-14618</td><td>12/29/16 12:41</td><td>12/29/16 18:41</td><td>Day</td><td>Day</td><td>Day</td><td>Day</td></tr><tr><td>A-14647</td><td>12/29/16 18:43</td><td>12/30/16 0:43</td><td>Night</td><td>Night</td><td>Night</td><td>Night</td></tr><tr><td>A-14682</td><td>12/30/16 11:02</td><td>12/30/16 17:02</td><td>Day</td><td>Day</td><td>Day</td><td>Day</td></tr><tr><td>A-14725</td><td>12/30/16 15:40</td><td>12/30/16 21:40</td><td>Day</td><td>Day</td><td>Day</td><td>Day</td></tr><tr><td>A-14835</td><td>1/2/17 17:03</td><td>1/2/17 23:03</td><td>Night</td><td>Day</td><td>Day</td><td>Day</td></tr><tr><td>A-14930</td><td>1/3/17 10:31</td><td>1/3/17 16:31</td><td>Day</td><td>Day</td><td>Day</td><td>Day</td></tr><tr><td>A-15127</td><td>1/5/17 7:10</td><td>1/5/17 13:10</td><td>Night</td><td>Night</td><td>Day</td><td>Day</td></tr><tr><td>A-15208</td><td>1/5/17 10:04</td><td>1/5/17 16:04</td><td>Day</td><td>Day</td><td>Day</td><td>Day</td></tr><tr><td>A-15266</td><td>1/5/17 22:49</td><td>1/6/17 4:49</td><td>Night</td><td>Night</td><td>Night</td><td>Night</td></tr><tr><td>A-15437</td><td>1/6/17 18:10</td><td>1/7/17 0:10</td><td>Night</td><td>Night</td><td>Day</td><td>Day</td></tr><tr><td>A-15647</td><td>1/10/17 4:41</td><td>1/10/17 10:41</td><td>Night</td><td>Night</td><td>Night</td><td>Night</td></tr><tr><td>A-15678</td><td>1/10/17 7:33</td><td>1/10/17 13:33</td><td>Night</td><td>Day</td><td>Day</td><td>Day</td></tr><tr><td>A-15771</td><td>1/10/17 15:51</td><td>1/10/17 21:51</td><td>Day</td><td>Day</td><td>Day</td><td>Day</td></tr><tr><td>A-15802</td><td>1/11/17 0:55</td><td>1/11/17 6:55</td><td>Night</td><td>Night</td><td>Night</td><td>Night</td></tr><tr><td>A-15865</td><td>1/11/17 10:00</td><td>1/11/17 16:00</td><td>Day</td><td>Day</td><td>Day</td><td>Day</td></tr><tr><td>A-16065</td><td>1/12/17 18:41</td><td>1/13/17 0:41</td><td>Night</td><td>Night</td><td>Night</td><td>Day</td></tr><tr><td>A-16087</td><td>1/12/17 22:36</td><td>1/13/17 4:36</td><td>Night</td><td>Night</td><td>Night</td><td>Night</td></tr><tr><td>A-16103</td><td>1/13/17 6:20</td><td>1/13/17 12:20</td><td>Night</td><td>Night</td><td>Night</td><td>Day</td></tr><tr><td>A-16157</td><td>1/13/17 13:51</td><td>1/13/17 19:51</td><td>Day</td><td>Day</td><td>Day</td><td>Day</td></tr><tr><td>A-16229</td><td>1/14/17 3:24</td><td>1/14/17 9:24</td><td>Night</td><td>Night</td><td>Night</td><td>Night</td></tr><tr><td>A-16261</td><td>1/15/17 22:20</td><td>1/16/17 4:20</td><td>Night</td><td>Night</td><td>Night</td><td>Night</td></tr><tr><td>A-16278</td><td>1/16/17 2:48</td><td>1/16/17 8:48</td><td>Night</td><td>Night</td><td>Night</td><td>Night</td></tr><tr><td>A-16428</td><td>1/17/17 4:54</td><td>1/17/17 10:54</td><td>Night</td><td>Night</td><td>Night</td><td>Night</td></tr><tr><td>A-17200</td><td>1/25/17 10:17</td><td>1/25/17 16:17</td><td>Day</td><td>Day</td><td>Day</td><td>Day</td></tr><tr><td>A-17563</td><td>10/21/16 20:12</td><td>10/22/16 2:12</td><td>Night</td><td>Night</td><td>Night</td><td>Night</td></tr><tr><td>A-17655</td><td>10/24/16 15:09</td><td>10/24/16 21:19</td><td>Day</td><td>Day</td><td>Day</td><td>Day</td></tr><tr><td>A-17785</td><td>10/25/16 17:47</td><td>10/25/16 23:47</td><td>Day</td><td>Day</td><td>Day</td><td>Day</td></tr><tr><td>A-18619</td><td>11/4/16 9:53</td><td>11/4/16 15:53</td><td>Day</td><td>Day</td><td>Day</td><td>Day</td></tr><tr><td>A-18639</td><td>11/4/16 14:24</td><td>11/4/16 20:24</td><td>Day</td><td>Day</td><td>Day</td><td>Day</td></tr><tr><td>A-18719</td><td>11/6/16 4:56</td><td>11/6/16 10:56</td><td>Night</td><td>Night</td><td>Night</td><td>Night</td></tr><tr><td>A-18844</td><td>11/7/16 17:28</td><td>11/7/16 23:28</td><td>Day</td><td>Day</td><td>Day</td><td>Day</td></tr><tr><td>A-18912</td><td>11/8/16 6:55</td><td>11/8/16 12:55</td><td>Day</td><td>Day</td><td>Day</td><td>Day</td></tr><tr><td>A-18997</td><td>11/8/16 17:33</td><td>11/8/16 23:33</td><td>Night</td><td>Day</td><td>Day</td><td>Day</td></tr><tr><td>A-19345</td><td>11/11/16 16:47</td><td>11/11/16 22:47</td><td>Night</td><td>Day</td><td>Day</td><td>Day</td></tr><tr><td>A-19660</td><td>11/16/16 2:37</td><td>11/16/16 8:37</td><td>Night</td><td>Night</td><td>Night</td><td>Night</td></tr><tr><td>A-20040</td><td>11/19/16 5:57</td><td>11/19/16 11:57</td><td>Night</td><td>Night</td><td>Night</td><td>Day</td></tr><tr><td>A-20178</td><td>11/21/16 13:55</td><td>11/21/16 19:55</td><td>Day</td><td>Day</td><td>Day</td><td>Day</td></tr><tr><td>A-20542</td><td>11/25/16 8:31</td><td>11/25/16 14:31</td><td>Day</td><td>Day</td><td>Day</td><td>Day</td></tr><tr><td>A-20729</td><td>11/28/16 8:56</td><td>11/28/16 14:56</td><td>Day</td><td>Day</td><td>Day</td><td>Day</td></tr><tr><td>A-20835</td><td>11/29/16 9:00</td><td>11/29/16 15:00</td><td>Day</td><td>Day</td><td>Day</td><td>Day</td></tr><tr><td>A-20865</td><td>11/29/16 15:52</td><td>11/29/16 21:52</td><td>Day</td><td>Day</td><td>Day</td><td>Day</td></tr><tr><td>A-21195</td><td>9/13/16 16:35</td><td>9/13/16 22:35</td><td>Day</td><td>Day</td><td>Day</td><td>Day</td></tr><tr><td>A-21452</td><td>9/15/16 12:42</td><td>9/15/16 18:42</td><td>Day</td><td>Day</td><td>Day</td><td>Day</td></tr><tr><td>A-21522</td><td>9/16/16 0:38</td><td>9/16/16 6:38</td><td>Night</td><td>Night</td><td>Night</td><td>Night</td></tr><tr><td>A-22000</td><td>9/27/16 10:48</td><td>9/27/16 16:48</td><td>Day</td><td>Day</td><td>Day</td><td>Day</td></tr><tr><td>A-22367</td><td>9/30/16 11:33</td><td>9/30/16 17:33</td><td>Day</td><td>Day</td><td>Day</td><td>Day</td></tr></tbody></table></div>"
      ]
     },
     "metadata": {
      "application/vnd.databricks.v1+output": {
       "addedWidgets": {},
       "aggData": [],
       "aggError": "",
       "aggOverflow": false,
       "aggSchema": [],
       "aggSeriesLimitReached": false,
       "aggType": "",
       "arguments": {},
       "columnCustomDisplayInfos": {},
       "data": [
        [
         "A-218",
         "2/16/16 9:41",
         "2/16/16 15:41",
         "Day",
         "Day",
         "Day",
         "Day"
        ],
        [
         "A-932",
         "3/17/16 7:25",
         "3/17/16 13:25",
         "Night",
         "Day",
         "Day",
         "Day"
        ],
        [
         "A-1457",
         "4/1/16 20:41",
         "4/2/16 2:41",
         "Night",
         "Night",
         "Night",
         "Day"
        ],
        [
         "A-1862",
         "4/11/16 17:25",
         "4/11/16 23:25",
         "Day",
         "Day",
         "Day",
         "Day"
        ],
        [
         "A-2599",
         "4/26/16 18:17",
         "4/27/16 0:17",
         "Day",
         "Day",
         "Day",
         "Day"
        ],
        [
         "A-2604",
         "4/26/16 19:53",
         "4/27/16 1:53",
         "Day",
         "Day",
         "Day",
         "Day"
        ],
        [
         "A-2656",
         "4/27/16 16:56",
         "4/27/16 22:56",
         "Day",
         "Day",
         "Day",
         "Day"
        ],
        [
         "A-2671",
         "4/27/16 18:17",
         "4/28/16 0:17",
         "Day",
         "Day",
         "Day",
         "Day"
        ],
        [
         "A-3166",
         "5/10/16 17:37",
         "5/10/16 23:37",
         "Day",
         "Day",
         "Day",
         "Day"
        ],
        [
         "A-3216",
         "5/11/16 15:25",
         "5/11/16 21:25",
         "Day",
         "Day",
         "Day",
         "Day"
        ],
        [
         "A-3253",
         "5/12/16 6:41",
         "5/12/16 12:41",
         "Day",
         "Day",
         "Day",
         "Day"
        ],
        [
         "A-3304",
         "5/12/16 17:25",
         "5/12/16 23:25",
         "Day",
         "Day",
         "Day",
         "Day"
        ],
        [
         "A-3609",
         "5/19/16 6:27",
         "5/19/16 12:27",
         "Day",
         "Day",
         "Day",
         "Day"
        ],
        [
         "A-3941",
         "5/25/16 19:26",
         "5/26/16 1:26",
         "Day",
         "Day",
         "Day",
         "Day"
        ],
        [
         "A-4297",
         "5/31/16 12:43",
         "5/31/16 18:43",
         "Day",
         "Day",
         "Day",
         "Day"
        ],
        [
         "A-4362",
         "6/1/16 12:53",
         "6/1/16 18:53",
         "Day",
         "Day",
         "Day",
         "Day"
        ],
        [
         "A-4825",
         "6/10/16 11:39",
         "6/10/16 17:39",
         "Day",
         "Day",
         "Day",
         "Day"
        ],
        [
         "A-5117",
         "6/17/16 13:17",
         "6/17/16 19:17",
         "Day",
         "Day",
         "Day",
         "Day"
        ],
        [
         "A-5248",
         "3/23/16 5:55",
         "3/23/16 11:55",
         "Night",
         "Night",
         "Day",
         "Day"
        ],
        [
         "A-5258",
         "3/23/16 8:28",
         "3/23/16 14:28",
         "Day",
         "Day",
         "Day",
         "Day"
        ],
        [
         "A-5780",
         "3/31/16 10:59",
         "3/31/16 16:59",
         "Day",
         "Day",
         "Day",
         "Day"
        ],
        [
         "A-6205",
         "4/7/16 7:26",
         "4/7/16 13:26",
         "Day",
         "Day",
         "Day",
         "Day"
        ],
        [
         "A-6407",
         "4/10/16 15:57",
         "4/10/16 21:57",
         "Day",
         "Day",
         "Day",
         "Day"
        ],
        [
         "A-7110",
         "4/22/16 19:18",
         "4/23/16 1:18",
         "Day",
         "Day",
         "Day",
         "Day"
        ],
        [
         "A-7263",
         "4/26/16 18:54",
         "4/27/16 0:54",
         "Day",
         "Day",
         "Day",
         "Day"
        ],
        [
         "A-8179",
         "5/12/16 17:15",
         "5/12/16 23:15",
         "Day",
         "Day",
         "Day",
         "Day"
        ],
        [
         "A-8223",
         "5/16/16 11:51",
         "5/16/16 17:51",
         "Day",
         "Day",
         "Day",
         "Day"
        ],
        [
         "A-8231",
         "5/16/16 14:10",
         "5/16/16 20:10",
         "Day",
         "Day",
         "Day",
         "Day"
        ],
        [
         "A-8694",
         "5/19/16 11:12",
         "5/19/16 17:12",
         "Day",
         "Day",
         "Day",
         "Day"
        ],
        [
         "A-8756",
         "5/19/16 16:05",
         "5/19/16 22:05",
         "Day",
         "Day",
         "Day",
         "Day"
        ],
        [
         "A-8919",
         "5/20/16 13:59",
         "5/20/16 19:59",
         "Day",
         "Day",
         "Day",
         "Day"
        ],
        [
         "A-9019",
         "5/20/16 17:47",
         "5/20/16 23:47",
         "Day",
         "Day",
         "Day",
         "Day"
        ],
        [
         "A-9154",
         "5/22/16 23:08",
         "5/23/16 5:08",
         "Night",
         "Night",
         "Night",
         "Night"
        ],
        [
         "A-9660",
         "5/25/16 6:46",
         "5/25/16 12:46",
         "Day",
         "Day",
         "Day",
         "Day"
        ],
        [
         "A-10239",
         "5/27/16 9:30",
         "5/27/16 15:30",
         "Day",
         "Day",
         "Day",
         "Day"
        ],
        [
         "A-11106",
         "6/7/16 16:30",
         "6/7/16 22:30",
         "Day",
         "Day",
         "Day",
         "Day"
        ],
        [
         "A-11153",
         "6/7/16 23:14",
         "6/8/16 5:14",
         "Night",
         "Night",
         "Night",
         "Night"
        ],
        [
         "A-11310",
         "6/10/16 8:30",
         "6/10/16 14:30",
         "Day",
         "Day",
         "Day",
         "Day"
        ],
        [
         "A-11385",
         "6/11/16 18:41",
         "6/12/16 0:41",
         "Day",
         "Day",
         "Day",
         "Day"
        ],
        [
         "A-11440",
         "6/13/16 13:53",
         "6/13/16 19:53",
         "Day",
         "Day",
         "Day",
         "Day"
        ],
        [
         "A-11952",
         "12/2/16 4:54",
         "12/2/16 10:54",
         "Night",
         "Night",
         "Night",
         "Night"
        ],
        [
         "A-12097",
         "12/3/16 14:14",
         "12/3/16 20:14",
         "Day",
         "Day",
         "Day",
         "Day"
        ],
        [
         "A-12129",
         "12/3/16 22:34",
         "12/4/16 4:34",
         "Night",
         "Night",
         "Night",
         "Night"
        ],
        [
         "A-12452",
         "12/6/16 17:42",
         "12/6/16 23:42",
         "Night",
         "Night",
         "Night",
         "Day"
        ],
        [
         "A-12606",
         "12/7/16 17:49",
         "12/7/16 23:49",
         "Night",
         "Night",
         "Night",
         "Day"
        ],
        [
         "A-12608",
         "12/7/16 17:53",
         "12/7/16 23:53",
         "Night",
         "Night",
         "Night",
         "Day"
        ],
        [
         "A-12941",
         "12/11/16 3:17",
         "12/11/16 9:17",
         "Night",
         "Night",
         "Night",
         "Night"
        ],
        [
         "A-13188",
         "12/13/16 13:34",
         "12/13/16 19:34",
         "Day",
         "Day",
         "Day",
         "Day"
        ],
        [
         "A-13433",
         "12/15/16 17:27",
         "12/15/16 23:27",
         "Night",
         "Day",
         "Day",
         "Day"
        ],
        [
         "A-13757",
         "12/18/16 9:37",
         "12/18/16 15:37",
         "Day",
         "Day",
         "Day",
         "Day"
        ],
        [
         "A-13945",
         "12/20/16 15:59",
         "12/20/16 21:59",
         "Day",
         "Day",
         "Day",
         "Day"
        ],
        [
         "A-14182",
         "12/22/16 14:13",
         "12/22/16 20:13",
         "Day",
         "Day",
         "Day",
         "Day"
        ],
        [
         "A-14462",
         "12/27/16 11:41",
         "12/27/16 17:41",
         "Day",
         "Day",
         "Day",
         "Day"
        ],
        [
         "A-14526",
         "12/28/16 9:16",
         "12/28/16 15:16",
         "Day",
         "Day",
         "Day",
         "Day"
        ],
        [
         "A-14618",
         "12/29/16 12:41",
         "12/29/16 18:41",
         "Day",
         "Day",
         "Day",
         "Day"
        ],
        [
         "A-14647",
         "12/29/16 18:43",
         "12/30/16 0:43",
         "Night",
         "Night",
         "Night",
         "Night"
        ],
        [
         "A-14682",
         "12/30/16 11:02",
         "12/30/16 17:02",
         "Day",
         "Day",
         "Day",
         "Day"
        ],
        [
         "A-14725",
         "12/30/16 15:40",
         "12/30/16 21:40",
         "Day",
         "Day",
         "Day",
         "Day"
        ],
        [
         "A-14835",
         "1/2/17 17:03",
         "1/2/17 23:03",
         "Night",
         "Day",
         "Day",
         "Day"
        ],
        [
         "A-14930",
         "1/3/17 10:31",
         "1/3/17 16:31",
         "Day",
         "Day",
         "Day",
         "Day"
        ],
        [
         "A-15127",
         "1/5/17 7:10",
         "1/5/17 13:10",
         "Night",
         "Night",
         "Day",
         "Day"
        ],
        [
         "A-15208",
         "1/5/17 10:04",
         "1/5/17 16:04",
         "Day",
         "Day",
         "Day",
         "Day"
        ],
        [
         "A-15266",
         "1/5/17 22:49",
         "1/6/17 4:49",
         "Night",
         "Night",
         "Night",
         "Night"
        ],
        [
         "A-15437",
         "1/6/17 18:10",
         "1/7/17 0:10",
         "Night",
         "Night",
         "Day",
         "Day"
        ],
        [
         "A-15647",
         "1/10/17 4:41",
         "1/10/17 10:41",
         "Night",
         "Night",
         "Night",
         "Night"
        ],
        [
         "A-15678",
         "1/10/17 7:33",
         "1/10/17 13:33",
         "Night",
         "Day",
         "Day",
         "Day"
        ],
        [
         "A-15771",
         "1/10/17 15:51",
         "1/10/17 21:51",
         "Day",
         "Day",
         "Day",
         "Day"
        ],
        [
         "A-15802",
         "1/11/17 0:55",
         "1/11/17 6:55",
         "Night",
         "Night",
         "Night",
         "Night"
        ],
        [
         "A-15865",
         "1/11/17 10:00",
         "1/11/17 16:00",
         "Day",
         "Day",
         "Day",
         "Day"
        ],
        [
         "A-16065",
         "1/12/17 18:41",
         "1/13/17 0:41",
         "Night",
         "Night",
         "Night",
         "Day"
        ],
        [
         "A-16087",
         "1/12/17 22:36",
         "1/13/17 4:36",
         "Night",
         "Night",
         "Night",
         "Night"
        ],
        [
         "A-16103",
         "1/13/17 6:20",
         "1/13/17 12:20",
         "Night",
         "Night",
         "Night",
         "Day"
        ],
        [
         "A-16157",
         "1/13/17 13:51",
         "1/13/17 19:51",
         "Day",
         "Day",
         "Day",
         "Day"
        ],
        [
         "A-16229",
         "1/14/17 3:24",
         "1/14/17 9:24",
         "Night",
         "Night",
         "Night",
         "Night"
        ],
        [
         "A-16261",
         "1/15/17 22:20",
         "1/16/17 4:20",
         "Night",
         "Night",
         "Night",
         "Night"
        ],
        [
         "A-16278",
         "1/16/17 2:48",
         "1/16/17 8:48",
         "Night",
         "Night",
         "Night",
         "Night"
        ],
        [
         "A-16428",
         "1/17/17 4:54",
         "1/17/17 10:54",
         "Night",
         "Night",
         "Night",
         "Night"
        ],
        [
         "A-17200",
         "1/25/17 10:17",
         "1/25/17 16:17",
         "Day",
         "Day",
         "Day",
         "Day"
        ],
        [
         "A-17563",
         "10/21/16 20:12",
         "10/22/16 2:12",
         "Night",
         "Night",
         "Night",
         "Night"
        ],
        [
         "A-17655",
         "10/24/16 15:09",
         "10/24/16 21:19",
         "Day",
         "Day",
         "Day",
         "Day"
        ],
        [
         "A-17785",
         "10/25/16 17:47",
         "10/25/16 23:47",
         "Day",
         "Day",
         "Day",
         "Day"
        ],
        [
         "A-18619",
         "11/4/16 9:53",
         "11/4/16 15:53",
         "Day",
         "Day",
         "Day",
         "Day"
        ],
        [
         "A-18639",
         "11/4/16 14:24",
         "11/4/16 20:24",
         "Day",
         "Day",
         "Day",
         "Day"
        ],
        [
         "A-18719",
         "11/6/16 4:56",
         "11/6/16 10:56",
         "Night",
         "Night",
         "Night",
         "Night"
        ],
        [
         "A-18844",
         "11/7/16 17:28",
         "11/7/16 23:28",
         "Day",
         "Day",
         "Day",
         "Day"
        ],
        [
         "A-18912",
         "11/8/16 6:55",
         "11/8/16 12:55",
         "Day",
         "Day",
         "Day",
         "Day"
        ],
        [
         "A-18997",
         "11/8/16 17:33",
         "11/8/16 23:33",
         "Night",
         "Day",
         "Day",
         "Day"
        ],
        [
         "A-19345",
         "11/11/16 16:47",
         "11/11/16 22:47",
         "Night",
         "Day",
         "Day",
         "Day"
        ],
        [
         "A-19660",
         "11/16/16 2:37",
         "11/16/16 8:37",
         "Night",
         "Night",
         "Night",
         "Night"
        ],
        [
         "A-20040",
         "11/19/16 5:57",
         "11/19/16 11:57",
         "Night",
         "Night",
         "Night",
         "Day"
        ],
        [
         "A-20178",
         "11/21/16 13:55",
         "11/21/16 19:55",
         "Day",
         "Day",
         "Day",
         "Day"
        ],
        [
         "A-20542",
         "11/25/16 8:31",
         "11/25/16 14:31",
         "Day",
         "Day",
         "Day",
         "Day"
        ],
        [
         "A-20729",
         "11/28/16 8:56",
         "11/28/16 14:56",
         "Day",
         "Day",
         "Day",
         "Day"
        ],
        [
         "A-20835",
         "11/29/16 9:00",
         "11/29/16 15:00",
         "Day",
         "Day",
         "Day",
         "Day"
        ],
        [
         "A-20865",
         "11/29/16 15:52",
         "11/29/16 21:52",
         "Day",
         "Day",
         "Day",
         "Day"
        ],
        [
         "A-21195",
         "9/13/16 16:35",
         "9/13/16 22:35",
         "Day",
         "Day",
         "Day",
         "Day"
        ],
        [
         "A-21452",
         "9/15/16 12:42",
         "9/15/16 18:42",
         "Day",
         "Day",
         "Day",
         "Day"
        ],
        [
         "A-21522",
         "9/16/16 0:38",
         "9/16/16 6:38",
         "Night",
         "Night",
         "Night",
         "Night"
        ],
        [
         "A-22000",
         "9/27/16 10:48",
         "9/27/16 16:48",
         "Day",
         "Day",
         "Day",
         "Day"
        ],
        [
         "A-22367",
         "9/30/16 11:33",
         "9/30/16 17:33",
         "Day",
         "Day",
         "Day",
         "Day"
        ]
       ],
       "datasetInfos": [],
       "dbfsResultPath": null,
       "isJsonSchema": true,
       "metadata": {},
       "overflow": false,
       "plotOptions": {
        "customPlotOptions": {},
        "displayType": "table",
        "pivotAggregation": null,
        "pivotColumns": null,
        "xColumns": null,
        "yColumns": null
       },
       "removedWidgets": [],
       "schema": [
        {
         "metadata": "{}",
         "name": "ID",
         "type": "\"string\""
        },
        {
         "metadata": "{}",
         "name": "Start_Time",
         "type": "\"string\""
        },
        {
         "metadata": "{}",
         "name": "End_Time",
         "type": "\"string\""
        },
        {
         "metadata": "{}",
         "name": "Sunrise_Sunset",
         "type": "\"string\""
        },
        {
         "metadata": "{}",
         "name": "Civil_Twilight",
         "type": "\"string\""
        },
        {
         "metadata": "{}",
         "name": "Nautical_Twilight",
         "type": "\"string\""
        },
        {
         "metadata": "{}",
         "name": "Astronomical_Twilight",
         "type": "\"string\""
        }
       ],
       "type": "table"
      }
     },
     "output_type": "display_data"
    }
   ],
   "source": [
    "%sql \n",
    "SELECT * FROM time LIMIT 100"
   ]
  },
  {
   "cell_type": "code",
   "execution_count": 0,
   "metadata": {
    "application/vnd.databricks.v1+cell": {
     "cellMetadata": {
      "byteLimit": 2048000,
      "implicitDf": true,
      "rowLimit": 10000
     },
     "inputWidgets": {},
     "nuid": "dbdb8303-143e-4c0c-868e-60f29284b47b",
     "showTitle": false,
     "title": ""
    }
   },
   "outputs": [
    {
     "output_type": "display_data",
     "data": {
      "text/html": [
       "<style scoped>\n  .table-result-container {\n    max-height: 300px;\n    overflow: auto;\n  }\n  table, th, td {\n    border: 1px solid black;\n    border-collapse: collapse;\n  }\n  th, td {\n    padding: 5px;\n  }\n  th {\n    text-align: left;\n  }\n</style><div class='table-result-container'><table class='table-result'><thead style='background-color: white'><tr></tr></thead><tbody></tbody></table></div>"
      ]
     },
     "metadata": {
      "application/vnd.databricks.v1+output": {
       "addedWidgets": {},
       "aggData": [],
       "aggError": "",
       "aggOverflow": false,
       "aggSchema": [],
       "aggSeriesLimitReached": false,
       "aggType": "",
       "arguments": {},
       "columnCustomDisplayInfos": {},
       "data": [],
       "datasetInfos": [],
       "dbfsResultPath": null,
       "isJsonSchema": true,
       "metadata": {},
       "overflow": false,
       "plotOptions": {
        "customPlotOptions": {},
        "displayType": "table",
        "pivotAggregation": null,
        "pivotColumns": null,
        "xColumns": null,
        "yColumns": null
       },
       "removedWidgets": [],
       "schema": [],
       "type": "table"
      }
     },
     "output_type": "display_data"
    }
   ],
   "source": [
    "%sql \n",
    "CREATE TABLE weather USING DELTA LOCATION \"s3://accidentszone/delta_tables/weather/\""
   ]
  },
  {
   "cell_type": "code",
   "execution_count": 0,
   "metadata": {
    "application/vnd.databricks.v1+cell": {
     "cellMetadata": {
      "byteLimit": 2048000,
      "implicitDf": true,
      "rowLimit": 10000
     },
     "inputWidgets": {},
     "nuid": "c47e23ba-b059-481d-98f1-ef3270a52b18",
     "showTitle": false,
     "title": ""
    }
   },
   "outputs": [
    {
     "output_type": "display_data",
     "data": {
      "text/html": [
       "<style scoped>\n  .table-result-container {\n    max-height: 300px;\n    overflow: auto;\n  }\n  table, th, td {\n    border: 1px solid black;\n    border-collapse: collapse;\n  }\n  th, td {\n    padding: 5px;\n  }\n  th {\n    text-align: left;\n  }\n</style><div class='table-result-container'><table class='table-result'><thead style='background-color: white'><tr><th>ID</th><th>Temperature</th><th>Wind_Chill</th><th>Humidity</th><th>Pressure</th><th>Visibility</th><th>Weather_Condition</th></tr></thead><tbody><tr><td>A-218</td><td>32</td><td>26.4</td><td>87</td><td>29.77</td><td>5</td><td>Overcast</td></tr><tr><td>A-932</td><td>43</td><td>37.2</td><td>65</td><td>29.9</td><td>10</td><td>Scattered Clouds</td></tr><tr><td>A-1457</td><td>53.1</td><td>null</td><td>89</td><td>30.18</td><td>10</td><td>Clear</td></tr><tr><td>A-1862</td><td>69.1</td><td>null</td><td>58</td><td>30.06</td><td>10</td><td>Clear</td></tr><tr><td>A-2599</td><td>64</td><td>null</td><td>46</td><td>30.06</td><td>10</td><td>Mostly Cloudy</td></tr><tr><td>A-2604</td><td>55</td><td>null</td><td>67</td><td>29.99</td><td>10</td><td>Clear</td></tr><tr><td>A-2656</td><td>57.2</td><td>null</td><td>72</td><td>29.82</td><td>10</td><td>Mostly Cloudy</td></tr><tr><td>A-2671</td><td>53.6</td><td>null</td><td>82</td><td>29.85</td><td>10</td><td>Overcast</td></tr><tr><td>A-3166</td><td>57</td><td>null</td><td>81</td><td>30</td><td>10</td><td>Overcast</td></tr><tr><td>A-3216</td><td>71.6</td><td>null</td><td>64</td><td>30.01</td><td>null</td><td>Clear</td></tr><tr><td>A-3253</td><td>57</td><td>null</td><td>83</td><td>30.05</td><td>7</td><td>Overcast</td></tr><tr><td>A-3304</td><td>73.9</td><td>null</td><td>46</td><td>29.92</td><td>10</td><td>Clear</td></tr><tr><td>A-3609</td><td>55.9</td><td>null</td><td>72</td><td>29.95</td><td>10</td><td>Overcast</td></tr><tr><td>A-3941</td><td>60.1</td><td>null</td><td>67</td><td>30.12</td><td>10</td><td>Mostly Cloudy</td></tr><tr><td>A-4297</td><td>75</td><td>null</td><td>51</td><td>29.83</td><td>10</td><td>Clear</td></tr><tr><td>A-4362</td><td>91.4</td><td>null</td><td>24</td><td>29.84</td><td>9</td><td>Clear</td></tr><tr><td>A-4825</td><td>75.9</td><td>null</td><td>21</td><td>29.95</td><td>10</td><td>Clear</td></tr><tr><td>A-5117</td><td>72</td><td>null</td><td>55</td><td>30.11</td><td>10</td><td>Overcast</td></tr><tr><td>A-5248</td><td>44.6</td><td>41.4</td><td>66</td><td>30.12</td><td>10</td><td>Clear</td></tr><tr><td>A-5258</td><td>59</td><td>null</td><td>48</td><td>30.17</td><td>10</td><td>Clear</td></tr><tr><td>A-5780</td><td>66</td><td>null</td><td>43</td><td>30.04</td><td>10</td><td>Clear</td></tr><tr><td>A-6205</td><td>62.1</td><td>null</td><td>78</td><td>29.99</td><td>9</td><td>Clear</td></tr><tr><td>A-6407</td><td>64.4</td><td>null</td><td>56</td><td>29.94</td><td>10</td><td>Overcast</td></tr><tr><td>A-7110</td><td>64</td><td>null</td><td>70</td><td>29.96</td><td>10</td><td>Clear</td></tr><tr><td>A-7263</td><td>68</td><td>null</td><td>28</td><td>29.94</td><td>10</td><td>Clear</td></tr><tr><td>A-8179</td><td>62.1</td><td>null</td><td>80</td><td>29.97</td><td>10</td><td>Overcast</td></tr><tr><td>A-8223</td><td>70</td><td>null</td><td>53</td><td>29.92</td><td>10</td><td>Mostly Cloudy</td></tr><tr><td>A-8231</td><td>69.1</td><td>null</td><td>61</td><td>29.89</td><td>10</td><td>Overcast</td></tr><tr><td>A-8694</td><td>64</td><td>64</td><td>72</td><td>29.07</td><td>6</td><td>Haze</td></tr><tr><td>A-8756</td><td>75.2</td><td>null</td><td>47</td><td>29.86</td><td>10</td><td>Clear</td></tr><tr><td>A-8919</td><td>66</td><td>null</td><td>54</td><td>29.88</td><td>10</td><td>Scattered Clouds</td></tr><tr><td>A-9019</td><td>66.6</td><td>null</td><td>48</td><td>29.81</td><td>10</td><td>Partly Cloudy</td></tr><tr><td>A-9154</td><td>62.1</td><td>null</td><td>58</td><td>29.97</td><td>10</td><td>Clear</td></tr><tr><td>A-9660</td><td>59</td><td>null</td><td>81</td><td>30.06</td><td>10</td><td>Mostly Cloudy</td></tr><tr><td>A-10239</td><td>63</td><td>null</td><td>75</td><td>29.95</td><td>10</td><td>Overcast</td></tr><tr><td>A-11106</td><td>77</td><td>null</td><td>47</td><td>29.86</td><td>10</td><td>Clear</td></tr><tr><td>A-11153</td><td>60.1</td><td>null</td><td>86</td><td>29.89</td><td>8</td><td>Scattered Clouds</td></tr><tr><td>A-11310</td><td>62.6</td><td>null</td><td>82</td><td>30.01</td><td>3</td><td>Haze</td></tr><tr><td>A-11385</td><td>68</td><td>null</td><td>40</td><td>29.95</td><td>10</td><td>Overcast</td></tr><tr><td>A-11440</td><td>73</td><td>null</td><td>48</td><td>30.03</td><td>10</td><td>Clear</td></tr><tr><td>A-11952</td><td>32</td><td>24.2</td><td>75</td><td>30.12</td><td>10</td><td>Overcast</td></tr><tr><td>A-12097</td><td>50</td><td>null</td><td>96</td><td>29.97</td><td>6</td><td>Light Rain</td></tr><tr><td>A-12129</td><td>53.1</td><td>null</td><td>93</td><td>29.86</td><td>7</td><td>Overcast</td></tr><tr><td>A-12452</td><td>21.9</td><td>7.3</td><td>63</td><td>29.77</td><td>9</td><td>Light Snow</td></tr><tr><td>A-12606</td><td>19</td><td>2.7</td><td>65</td><td>30.15</td><td>10</td><td>Overcast</td></tr><tr><td>A-12608</td><td>17.1</td><td>1.5</td><td>59</td><td>30.14</td><td>10</td><td>Overcast</td></tr><tr><td>A-12941</td><td>null</td><td>null</td><td>null</td><td>null</td><td>null</td><td>null</td></tr><tr><td>A-13188</td><td>75.2</td><td>null</td><td>73</td><td>29.91</td><td>10</td><td>Mostly Cloudy</td></tr><tr><td>A-13433</td><td>30.2</td><td>22.6</td><td>93</td><td>30.12</td><td>2.5</td><td>Light Freezing Drizzle</td></tr><tr><td>A-13757</td><td>10.4</td><td>2.2</td><td>62</td><td>30.12</td><td>30</td><td>Clear</td></tr><tr><td>A-13945</td><td>57</td><td>null</td><td>24</td><td>30.32</td><td>10</td><td>Scattered Clouds</td></tr><tr><td>A-14182</td><td>71.1</td><td>null</td><td>49</td><td>30.19</td><td>10</td><td>Overcast</td></tr><tr><td>A-14462</td><td>79</td><td>null</td><td>69</td><td>30.22</td><td>8</td><td>Mostly Cloudy</td></tr><tr><td>A-14526</td><td>28.9</td><td>22.8</td><td>78</td><td>29.7</td><td>10</td><td>Scattered Clouds</td></tr><tr><td>A-14618</td><td>57.2</td><td>null</td><td>13</td><td>30.51</td><td>13</td><td>Partly Cloudy</td></tr><tr><td>A-14647</td><td>41</td><td>35.8</td><td>36</td><td>30.37</td><td>10</td><td>Clear</td></tr><tr><td>A-14682</td><td>51.1</td><td>null</td><td>28</td><td>30.44</td><td>10</td><td>Mostly Cloudy</td></tr><tr><td>A-14725</td><td>55</td><td>null</td><td>23</td><td>29.84</td><td>10</td><td>Clear</td></tr><tr><td>A-14835</td><td>32</td><td>24.2</td><td>85</td><td>29.99</td><td>3</td><td>Light Freezing Drizzle</td></tr><tr><td>A-14930</td><td>17.6</td><td>null</td><td>93</td><td>30.09</td><td>4</td><td>Overcast</td></tr><tr><td>A-15127</td><td>-7.6</td><td>-20.6</td><td>84</td><td>30.07</td><td>10</td><td>Clear</td></tr><tr><td>A-15208</td><td>3.9</td><td>-6.9</td><td>70</td><td>30.23</td><td>0.8</td><td>Light Snow</td></tr><tr><td>A-15266</td><td>6.1</td><td>-0.9</td><td>69</td><td>30.31</td><td>10</td><td>Clear</td></tr><tr><td>A-15437</td><td>21.9</td><td>9.8</td><td>75</td><td>30.44</td><td>10</td><td>Overcast</td></tr><tr><td>A-15647</td><td>62.6</td><td>null</td><td>88</td><td>30.06</td><td>9</td><td>Clear</td></tr><tr><td>A-15678</td><td>27</td><td>20.5</td><td>89</td><td>29.41</td><td>5</td><td>Light Snow</td></tr><tr><td>A-15771</td><td>14</td><td>-5.1</td><td>73</td><td>29.56</td><td>9</td><td>Mostly Cloudy</td></tr><tr><td>A-15802</td><td>5</td><td>-8.1</td><td>70</td><td>29.93</td><td>10</td><td>Overcast</td></tr><tr><td>A-15865</td><td>6.1</td><td>-9.5</td><td>76</td><td>29.9</td><td>1.5</td><td>Light Snow</td></tr><tr><td>A-16065</td><td>70</td><td>null</td><td>81</td><td>30.16</td><td>10</td><td>Partly Cloudy</td></tr><tr><td>A-16087</td><td>48</td><td>null</td><td>61</td><td>30.22</td><td>9</td><td>Mostly Cloudy</td></tr><tr><td>A-16103</td><td>46.9</td><td>null</td><td>63</td><td>30.3</td><td>7</td><td>Light Rain</td></tr><tr><td>A-16157</td><td>46.9</td><td>null</td><td>90</td><td>30.35</td><td>2.5</td><td>Light Rain</td></tr><tr><td>A-16229</td><td>66.2</td><td>null</td><td>100</td><td>30.3</td><td>0.2</td><td>Overcast</td></tr><tr><td>A-16261</td><td>62.4</td><td>null</td><td>91</td><td>29.93</td><td>10</td><td>Overcast</td></tr><tr><td>A-16278</td><td>31.3</td><td>23.9</td><td>100</td><td>30.15</td><td>5</td><td>Light Freezing Rain</td></tr><tr><td>A-16428</td><td>30.9</td><td>25.2</td><td>89</td><td>29.96</td><td>5</td><td>Light Snow</td></tr><tr><td>A-17200</td><td>48.2</td><td>null</td><td>58</td><td>30</td><td>13</td><td>Clear</td></tr><tr><td>A-17563</td><td>64.4</td><td>null</td><td>45</td><td>30.16</td><td>13</td><td>Clear</td></tr><tr><td>A-17655</td><td>79</td><td>null</td><td>62</td><td>30.18</td><td>10</td><td>Clear</td></tr><tr><td>A-17785</td><td>44.6</td><td>39.7</td><td>84</td><td>30.28</td><td>10</td><td>Mostly Cloudy</td></tr><tr><td>A-18619</td><td>51.8</td><td>null</td><td>58</td><td>30.46</td><td>10</td><td>Clear</td></tr><tr><td>A-18639</td><td>66.9</td><td>null</td><td>40</td><td>30.29</td><td>10</td><td>Clear</td></tr><tr><td>A-18719</td><td>64</td><td>null</td><td>60</td><td>30.16</td><td>10</td><td>Mostly Cloudy</td></tr><tr><td>A-18844</td><td>69.1</td><td>null</td><td>93</td><td>30.09</td><td>5</td><td>Overcast</td></tr><tr><td>A-18912</td><td>64.4</td><td>null</td><td>100</td><td>30.08</td><td>1</td><td>Overcast</td></tr><tr><td>A-18997</td><td>62.1</td><td>null</td><td>100</td><td>30.2</td><td>5</td><td>Overcast</td></tr><tr><td>A-19345</td><td>46.2</td><td>41.2</td><td>46</td><td>30.43</td><td>10</td><td>Clear</td></tr><tr><td>A-19660</td><td>39.4</td><td>null</td><td>100</td><td>29.94</td><td>10</td><td>Clear</td></tr><tr><td>A-20040</td><td>28.9</td><td>15.8</td><td>61</td><td>30.27</td><td>10</td><td>Overcast</td></tr><tr><td>A-20178</td><td>36</td><td>28.5</td><td>46</td><td>30.25</td><td>10</td><td>Clear</td></tr><tr><td>A-20542</td><td>51.8</td><td>null</td><td>71</td><td>30.42</td><td>13</td><td>Mostly Cloudy</td></tr><tr><td>A-20729</td><td>61</td><td>null</td><td>81</td><td>29.47</td><td>10</td><td>Thunderstorm</td></tr><tr><td>A-20835</td><td>null</td><td>null</td><td>null</td><td>null</td><td>null</td><td>null</td></tr><tr><td>A-20865</td><td>73</td><td>null</td><td>20</td><td>29.62</td><td>10</td><td>Partly Cloudy</td></tr><tr><td>A-21195</td><td>93</td><td>null</td><td>42</td><td>29.93</td><td>10</td><td>Mostly Cloudy</td></tr><tr><td>A-21452</td><td>89.1</td><td>null</td><td>54</td><td>30.06</td><td>10</td><td>Scattered Clouds</td></tr><tr><td>A-21522</td><td>77.9</td><td>null</td><td>75</td><td>29.96</td><td>10</td><td>Clear</td></tr><tr><td>A-22000</td><td>71.6</td><td>null</td><td>57</td><td>30.14</td><td>13</td><td>Clear</td></tr><tr><td>A-22367</td><td>60.8</td><td>null</td><td>82</td><td>30.3</td><td>10</td><td>Overcast</td></tr></tbody></table></div>"
      ]
     },
     "metadata": {
      "application/vnd.databricks.v1+output": {
       "addedWidgets": {},
       "aggData": [],
       "aggError": "",
       "aggOverflow": false,
       "aggSchema": [],
       "aggSeriesLimitReached": false,
       "aggType": "",
       "arguments": {},
       "columnCustomDisplayInfos": {},
       "data": [
        [
         "A-218",
         "32",
         "26.4",
         "87",
         "29.77",
         "5",
         "Overcast"
        ],
        [
         "A-932",
         "43",
         "37.2",
         "65",
         "29.9",
         "10",
         "Scattered Clouds"
        ],
        [
         "A-1457",
         "53.1",
         null,
         "89",
         "30.18",
         "10",
         "Clear"
        ],
        [
         "A-1862",
         "69.1",
         null,
         "58",
         "30.06",
         "10",
         "Clear"
        ],
        [
         "A-2599",
         "64",
         null,
         "46",
         "30.06",
         "10",
         "Mostly Cloudy"
        ],
        [
         "A-2604",
         "55",
         null,
         "67",
         "29.99",
         "10",
         "Clear"
        ],
        [
         "A-2656",
         "57.2",
         null,
         "72",
         "29.82",
         "10",
         "Mostly Cloudy"
        ],
        [
         "A-2671",
         "53.6",
         null,
         "82",
         "29.85",
         "10",
         "Overcast"
        ],
        [
         "A-3166",
         "57",
         null,
         "81",
         "30",
         "10",
         "Overcast"
        ],
        [
         "A-3216",
         "71.6",
         null,
         "64",
         "30.01",
         null,
         "Clear"
        ],
        [
         "A-3253",
         "57",
         null,
         "83",
         "30.05",
         "7",
         "Overcast"
        ],
        [
         "A-3304",
         "73.9",
         null,
         "46",
         "29.92",
         "10",
         "Clear"
        ],
        [
         "A-3609",
         "55.9",
         null,
         "72",
         "29.95",
         "10",
         "Overcast"
        ],
        [
         "A-3941",
         "60.1",
         null,
         "67",
         "30.12",
         "10",
         "Mostly Cloudy"
        ],
        [
         "A-4297",
         "75",
         null,
         "51",
         "29.83",
         "10",
         "Clear"
        ],
        [
         "A-4362",
         "91.4",
         null,
         "24",
         "29.84",
         "9",
         "Clear"
        ],
        [
         "A-4825",
         "75.9",
         null,
         "21",
         "29.95",
         "10",
         "Clear"
        ],
        [
         "A-5117",
         "72",
         null,
         "55",
         "30.11",
         "10",
         "Overcast"
        ],
        [
         "A-5248",
         "44.6",
         "41.4",
         "66",
         "30.12",
         "10",
         "Clear"
        ],
        [
         "A-5258",
         "59",
         null,
         "48",
         "30.17",
         "10",
         "Clear"
        ],
        [
         "A-5780",
         "66",
         null,
         "43",
         "30.04",
         "10",
         "Clear"
        ],
        [
         "A-6205",
         "62.1",
         null,
         "78",
         "29.99",
         "9",
         "Clear"
        ],
        [
         "A-6407",
         "64.4",
         null,
         "56",
         "29.94",
         "10",
         "Overcast"
        ],
        [
         "A-7110",
         "64",
         null,
         "70",
         "29.96",
         "10",
         "Clear"
        ],
        [
         "A-7263",
         "68",
         null,
         "28",
         "29.94",
         "10",
         "Clear"
        ],
        [
         "A-8179",
         "62.1",
         null,
         "80",
         "29.97",
         "10",
         "Overcast"
        ],
        [
         "A-8223",
         "70",
         null,
         "53",
         "29.92",
         "10",
         "Mostly Cloudy"
        ],
        [
         "A-8231",
         "69.1",
         null,
         "61",
         "29.89",
         "10",
         "Overcast"
        ],
        [
         "A-8694",
         "64",
         "64",
         "72",
         "29.07",
         "6",
         "Haze"
        ],
        [
         "A-8756",
         "75.2",
         null,
         "47",
         "29.86",
         "10",
         "Clear"
        ],
        [
         "A-8919",
         "66",
         null,
         "54",
         "29.88",
         "10",
         "Scattered Clouds"
        ],
        [
         "A-9019",
         "66.6",
         null,
         "48",
         "29.81",
         "10",
         "Partly Cloudy"
        ],
        [
         "A-9154",
         "62.1",
         null,
         "58",
         "29.97",
         "10",
         "Clear"
        ],
        [
         "A-9660",
         "59",
         null,
         "81",
         "30.06",
         "10",
         "Mostly Cloudy"
        ],
        [
         "A-10239",
         "63",
         null,
         "75",
         "29.95",
         "10",
         "Overcast"
        ],
        [
         "A-11106",
         "77",
         null,
         "47",
         "29.86",
         "10",
         "Clear"
        ],
        [
         "A-11153",
         "60.1",
         null,
         "86",
         "29.89",
         "8",
         "Scattered Clouds"
        ],
        [
         "A-11310",
         "62.6",
         null,
         "82",
         "30.01",
         "3",
         "Haze"
        ],
        [
         "A-11385",
         "68",
         null,
         "40",
         "29.95",
         "10",
         "Overcast"
        ],
        [
         "A-11440",
         "73",
         null,
         "48",
         "30.03",
         "10",
         "Clear"
        ],
        [
         "A-11952",
         "32",
         "24.2",
         "75",
         "30.12",
         "10",
         "Overcast"
        ],
        [
         "A-12097",
         "50",
         null,
         "96",
         "29.97",
         "6",
         "Light Rain"
        ],
        [
         "A-12129",
         "53.1",
         null,
         "93",
         "29.86",
         "7",
         "Overcast"
        ],
        [
         "A-12452",
         "21.9",
         "7.3",
         "63",
         "29.77",
         "9",
         "Light Snow"
        ],
        [
         "A-12606",
         "19",
         "2.7",
         "65",
         "30.15",
         "10",
         "Overcast"
        ],
        [
         "A-12608",
         "17.1",
         "1.5",
         "59",
         "30.14",
         "10",
         "Overcast"
        ],
        [
         "A-12941",
         null,
         null,
         null,
         null,
         null,
         null
        ],
        [
         "A-13188",
         "75.2",
         null,
         "73",
         "29.91",
         "10",
         "Mostly Cloudy"
        ],
        [
         "A-13433",
         "30.2",
         "22.6",
         "93",
         "30.12",
         "2.5",
         "Light Freezing Drizzle"
        ],
        [
         "A-13757",
         "10.4",
         "2.2",
         "62",
         "30.12",
         "30",
         "Clear"
        ],
        [
         "A-13945",
         "57",
         null,
         "24",
         "30.32",
         "10",
         "Scattered Clouds"
        ],
        [
         "A-14182",
         "71.1",
         null,
         "49",
         "30.19",
         "10",
         "Overcast"
        ],
        [
         "A-14462",
         "79",
         null,
         "69",
         "30.22",
         "8",
         "Mostly Cloudy"
        ],
        [
         "A-14526",
         "28.9",
         "22.8",
         "78",
         "29.7",
         "10",
         "Scattered Clouds"
        ],
        [
         "A-14618",
         "57.2",
         null,
         "13",
         "30.51",
         "13",
         "Partly Cloudy"
        ],
        [
         "A-14647",
         "41",
         "35.8",
         "36",
         "30.37",
         "10",
         "Clear"
        ],
        [
         "A-14682",
         "51.1",
         null,
         "28",
         "30.44",
         "10",
         "Mostly Cloudy"
        ],
        [
         "A-14725",
         "55",
         null,
         "23",
         "29.84",
         "10",
         "Clear"
        ],
        [
         "A-14835",
         "32",
         "24.2",
         "85",
         "29.99",
         "3",
         "Light Freezing Drizzle"
        ],
        [
         "A-14930",
         "17.6",
         null,
         "93",
         "30.09",
         "4",
         "Overcast"
        ],
        [
         "A-15127",
         "-7.6",
         "-20.6",
         "84",
         "30.07",
         "10",
         "Clear"
        ],
        [
         "A-15208",
         "3.9",
         "-6.9",
         "70",
         "30.23",
         "0.8",
         "Light Snow"
        ],
        [
         "A-15266",
         "6.1",
         "-0.9",
         "69",
         "30.31",
         "10",
         "Clear"
        ],
        [
         "A-15437",
         "21.9",
         "9.8",
         "75",
         "30.44",
         "10",
         "Overcast"
        ],
        [
         "A-15647",
         "62.6",
         null,
         "88",
         "30.06",
         "9",
         "Clear"
        ],
        [
         "A-15678",
         "27",
         "20.5",
         "89",
         "29.41",
         "5",
         "Light Snow"
        ],
        [
         "A-15771",
         "14",
         "-5.1",
         "73",
         "29.56",
         "9",
         "Mostly Cloudy"
        ],
        [
         "A-15802",
         "5",
         "-8.1",
         "70",
         "29.93",
         "10",
         "Overcast"
        ],
        [
         "A-15865",
         "6.1",
         "-9.5",
         "76",
         "29.9",
         "1.5",
         "Light Snow"
        ],
        [
         "A-16065",
         "70",
         null,
         "81",
         "30.16",
         "10",
         "Partly Cloudy"
        ],
        [
         "A-16087",
         "48",
         null,
         "61",
         "30.22",
         "9",
         "Mostly Cloudy"
        ],
        [
         "A-16103",
         "46.9",
         null,
         "63",
         "30.3",
         "7",
         "Light Rain"
        ],
        [
         "A-16157",
         "46.9",
         null,
         "90",
         "30.35",
         "2.5",
         "Light Rain"
        ],
        [
         "A-16229",
         "66.2",
         null,
         "100",
         "30.3",
         "0.2",
         "Overcast"
        ],
        [
         "A-16261",
         "62.4",
         null,
         "91",
         "29.93",
         "10",
         "Overcast"
        ],
        [
         "A-16278",
         "31.3",
         "23.9",
         "100",
         "30.15",
         "5",
         "Light Freezing Rain"
        ],
        [
         "A-16428",
         "30.9",
         "25.2",
         "89",
         "29.96",
         "5",
         "Light Snow"
        ],
        [
         "A-17200",
         "48.2",
         null,
         "58",
         "30",
         "13",
         "Clear"
        ],
        [
         "A-17563",
         "64.4",
         null,
         "45",
         "30.16",
         "13",
         "Clear"
        ],
        [
         "A-17655",
         "79",
         null,
         "62",
         "30.18",
         "10",
         "Clear"
        ],
        [
         "A-17785",
         "44.6",
         "39.7",
         "84",
         "30.28",
         "10",
         "Mostly Cloudy"
        ],
        [
         "A-18619",
         "51.8",
         null,
         "58",
         "30.46",
         "10",
         "Clear"
        ],
        [
         "A-18639",
         "66.9",
         null,
         "40",
         "30.29",
         "10",
         "Clear"
        ],
        [
         "A-18719",
         "64",
         null,
         "60",
         "30.16",
         "10",
         "Mostly Cloudy"
        ],
        [
         "A-18844",
         "69.1",
         null,
         "93",
         "30.09",
         "5",
         "Overcast"
        ],
        [
         "A-18912",
         "64.4",
         null,
         "100",
         "30.08",
         "1",
         "Overcast"
        ],
        [
         "A-18997",
         "62.1",
         null,
         "100",
         "30.2",
         "5",
         "Overcast"
        ],
        [
         "A-19345",
         "46.2",
         "41.2",
         "46",
         "30.43",
         "10",
         "Clear"
        ],
        [
         "A-19660",
         "39.4",
         null,
         "100",
         "29.94",
         "10",
         "Clear"
        ],
        [
         "A-20040",
         "28.9",
         "15.8",
         "61",
         "30.27",
         "10",
         "Overcast"
        ],
        [
         "A-20178",
         "36",
         "28.5",
         "46",
         "30.25",
         "10",
         "Clear"
        ],
        [
         "A-20542",
         "51.8",
         null,
         "71",
         "30.42",
         "13",
         "Mostly Cloudy"
        ],
        [
         "A-20729",
         "61",
         null,
         "81",
         "29.47",
         "10",
         "Thunderstorm"
        ],
        [
         "A-20835",
         null,
         null,
         null,
         null,
         null,
         null
        ],
        [
         "A-20865",
         "73",
         null,
         "20",
         "29.62",
         "10",
         "Partly Cloudy"
        ],
        [
         "A-21195",
         "93",
         null,
         "42",
         "29.93",
         "10",
         "Mostly Cloudy"
        ],
        [
         "A-21452",
         "89.1",
         null,
         "54",
         "30.06",
         "10",
         "Scattered Clouds"
        ],
        [
         "A-21522",
         "77.9",
         null,
         "75",
         "29.96",
         "10",
         "Clear"
        ],
        [
         "A-22000",
         "71.6",
         null,
         "57",
         "30.14",
         "13",
         "Clear"
        ],
        [
         "A-22367",
         "60.8",
         null,
         "82",
         "30.3",
         "10",
         "Overcast"
        ]
       ],
       "datasetInfos": [],
       "dbfsResultPath": null,
       "isJsonSchema": true,
       "metadata": {},
       "overflow": false,
       "plotOptions": {
        "customPlotOptions": {},
        "displayType": "table",
        "pivotAggregation": null,
        "pivotColumns": null,
        "xColumns": null,
        "yColumns": null
       },
       "removedWidgets": [],
       "schema": [
        {
         "metadata": "{}",
         "name": "ID",
         "type": "\"string\""
        },
        {
         "metadata": "{}",
         "name": "Temperature",
         "type": "\"string\""
        },
        {
         "metadata": "{}",
         "name": "Wind_Chill",
         "type": "\"string\""
        },
        {
         "metadata": "{}",
         "name": "Humidity",
         "type": "\"string\""
        },
        {
         "metadata": "{}",
         "name": "Pressure",
         "type": "\"string\""
        },
        {
         "metadata": "{}",
         "name": "Visibility",
         "type": "\"string\""
        },
        {
         "metadata": "{}",
         "name": "Weather_Condition",
         "type": "\"string\""
        }
       ],
       "type": "table"
      }
     },
     "output_type": "display_data"
    }
   ],
   "source": [
    "%sql \n",
    "SELECT * FROM weather LIMIT 100"
   ]
  }
 ],
 "metadata": {
  "application/vnd.databricks.v1+notebook": {
   "dashboards": [],
   "language": "python",
   "notebookMetadata": {
    "mostRecentlyExecutedCommandWithImplicitDF": {
     "commandId": 2572108419092479,
     "dataframes": [
      "_sqldf"
     ]
    },
    "pythonIndentUnit": 4
   },
   "notebookName": "UsAccidents",
   "notebookOrigID": 2556900912230667,
   "widgets": {}
  }
 },
 "nbformat": 4,
 "nbformat_minor": 0
}
